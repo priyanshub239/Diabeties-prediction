{
  "nbformat": 4,
  "nbformat_minor": 0,
  "metadata": {
    "colab": {
      "name": "Untitled3.ipynb",
      "provenance": [],
      "collapsed_sections": []
    },
    "kernelspec": {
      "name": "python3",
      "display_name": "Python 3"
    }
  },
  "cells": [
    {
      "cell_type": "code",
      "metadata": {
        "id": "K0j8ZG9vUC6r"
      },
      "source": [
        "import numpy as np\n",
        "import pandas as pd\n",
        "import matplotlib.pyplot as plt\n",
        "import tensorflow as tf\n",
        "from tensorflow import keras\n",
        "from keras import layers"
      ],
      "execution_count": null,
      "outputs": []
    },
    {
      "cell_type": "code",
      "metadata": {
        "id": "xbPcSQcxIh9F"
      },
      "source": [
        ""
      ],
      "execution_count": null,
      "outputs": []
    },
    {
      "cell_type": "markdown",
      "metadata": {
        "id": "ZG1isD8EO1P7"
      },
      "source": [
        "Taking input of my pima dataset\n"
      ]
    },
    {
      "cell_type": "code",
      "metadata": {
        "id": "sfltaEsPUFoX"
      },
      "source": [
        "url='https://raw.githubusercontent.com/jbrownlee/Datasets/master/pima-indians-diabetes.data.csv'"
      ],
      "execution_count": null,
      "outputs": []
    },
    {
      "cell_type": "code",
      "metadata": {
        "id": "e8ikQNlqUISg",
        "outputId": "3f87cc1f-99a7-4c77-d3ee-22c18446566e",
        "colab": {
          "base_uri": "https://localhost:8080/",
          "height": 52
        }
      },
      "source": [
        "dataset_path=keras.utils.get_file('diabetes.csv',url)"
      ],
      "execution_count": null,
      "outputs": [
        {
          "output_type": "stream",
          "text": [
            "Downloading data from https://raw.githubusercontent.com/jbrownlee/Datasets/master/pima-indians-diabetes.data.csv\n",
            "24576/23278 [===============================] - 0s 1us/step\n"
          ],
          "name": "stdout"
        }
      ]
    },
    {
      "cell_type": "code",
      "metadata": {
        "id": "RFhHeF-4ULNc"
      },
      "source": [
        "dataset=pd.read_csv(dataset_path)"
      ],
      "execution_count": null,
      "outputs": []
    },
    {
      "cell_type": "code",
      "metadata": {
        "id": "Z0NyHCVwUN3L",
        "outputId": "23b27c5c-f898-4cf8-8c35-e31380302fe1",
        "colab": {
          "base_uri": "https://localhost:8080/",
          "height": 34
        }
      },
      "source": [
        "dataset.shape"
      ],
      "execution_count": null,
      "outputs": [
        {
          "output_type": "execute_result",
          "data": {
            "text/plain": [
              "(767, 9)"
            ]
          },
          "metadata": {
            "tags": []
          },
          "execution_count": 5
        }
      ]
    },
    {
      "cell_type": "markdown",
      "metadata": {
        "id": "CYD7-Nr7O-bH"
      },
      "source": [
        "Defining name for columns"
      ]
    },
    {
      "cell_type": "code",
      "metadata": {
        "id": "1_6Mm89sUa_B"
      },
      "source": [
        "dataset.columns=['A','B','C','D','E','F','G','H','I'] "
      ],
      "execution_count": null,
      "outputs": []
    },
    {
      "cell_type": "code",
      "metadata": {
        "id": "5VdCIY5kUdwC",
        "outputId": "561560de-dac4-4ba9-c006-9808abe639e1",
        "colab": {
          "base_uri": "https://localhost:8080/",
          "height": 197
        }
      },
      "source": [
        "dataset.head()"
      ],
      "execution_count": null,
      "outputs": [
        {
          "output_type": "execute_result",
          "data": {
            "text/html": [
              "<div>\n",
              "<style scoped>\n",
              "    .dataframe tbody tr th:only-of-type {\n",
              "        vertical-align: middle;\n",
              "    }\n",
              "\n",
              "    .dataframe tbody tr th {\n",
              "        vertical-align: top;\n",
              "    }\n",
              "\n",
              "    .dataframe thead th {\n",
              "        text-align: right;\n",
              "    }\n",
              "</style>\n",
              "<table border=\"1\" class=\"dataframe\">\n",
              "  <thead>\n",
              "    <tr style=\"text-align: right;\">\n",
              "      <th></th>\n",
              "      <th>A</th>\n",
              "      <th>B</th>\n",
              "      <th>C</th>\n",
              "      <th>D</th>\n",
              "      <th>E</th>\n",
              "      <th>F</th>\n",
              "      <th>G</th>\n",
              "      <th>H</th>\n",
              "      <th>I</th>\n",
              "    </tr>\n",
              "  </thead>\n",
              "  <tbody>\n",
              "    <tr>\n",
              "      <th>0</th>\n",
              "      <td>1</td>\n",
              "      <td>85</td>\n",
              "      <td>66</td>\n",
              "      <td>29</td>\n",
              "      <td>0</td>\n",
              "      <td>26.6</td>\n",
              "      <td>0.351</td>\n",
              "      <td>31</td>\n",
              "      <td>0</td>\n",
              "    </tr>\n",
              "    <tr>\n",
              "      <th>1</th>\n",
              "      <td>8</td>\n",
              "      <td>183</td>\n",
              "      <td>64</td>\n",
              "      <td>0</td>\n",
              "      <td>0</td>\n",
              "      <td>23.3</td>\n",
              "      <td>0.672</td>\n",
              "      <td>32</td>\n",
              "      <td>1</td>\n",
              "    </tr>\n",
              "    <tr>\n",
              "      <th>2</th>\n",
              "      <td>1</td>\n",
              "      <td>89</td>\n",
              "      <td>66</td>\n",
              "      <td>23</td>\n",
              "      <td>94</td>\n",
              "      <td>28.1</td>\n",
              "      <td>0.167</td>\n",
              "      <td>21</td>\n",
              "      <td>0</td>\n",
              "    </tr>\n",
              "    <tr>\n",
              "      <th>3</th>\n",
              "      <td>0</td>\n",
              "      <td>137</td>\n",
              "      <td>40</td>\n",
              "      <td>35</td>\n",
              "      <td>168</td>\n",
              "      <td>43.1</td>\n",
              "      <td>2.288</td>\n",
              "      <td>33</td>\n",
              "      <td>1</td>\n",
              "    </tr>\n",
              "    <tr>\n",
              "      <th>4</th>\n",
              "      <td>5</td>\n",
              "      <td>116</td>\n",
              "      <td>74</td>\n",
              "      <td>0</td>\n",
              "      <td>0</td>\n",
              "      <td>25.6</td>\n",
              "      <td>0.201</td>\n",
              "      <td>30</td>\n",
              "      <td>0</td>\n",
              "    </tr>\n",
              "  </tbody>\n",
              "</table>\n",
              "</div>"
            ],
            "text/plain": [
              "   A    B   C   D    E     F      G   H  I\n",
              "0  1   85  66  29    0  26.6  0.351  31  0\n",
              "1  8  183  64   0    0  23.3  0.672  32  1\n",
              "2  1   89  66  23   94  28.1  0.167  21  0\n",
              "3  0  137  40  35  168  43.1  2.288  33  1\n",
              "4  5  116  74   0    0  25.6  0.201  30  0"
            ]
          },
          "metadata": {
            "tags": []
          },
          "execution_count": 7
        }
      ]
    },
    {
      "cell_type": "code",
      "metadata": {
        "id": "_YFM6CueUgSV"
      },
      "source": [
        "dataset=np.array(dataset)\n",
        "X=dataset[:,0:8]\n",
        "target=dataset[:, 8]"
      ],
      "execution_count": null,
      "outputs": []
    },
    {
      "cell_type": "markdown",
      "metadata": {
        "id": "lGQoFkrPPC4F"
      },
      "source": [
        "Building my neural network\n"
      ]
    },
    {
      "cell_type": "code",
      "metadata": {
        "id": "D3MjFU48Uiu1"
      },
      "source": [
        "model=keras.Sequential(name=\"Back-Propagation\")\n",
        "model.add(keras.Input(shape=8, name=\"input_layer\"))\n",
        "model.add(layers.Dense(64, activation='sigmoid', name=\"Hidden1\"))\n",
        "model.add(layers.Dense(64, activation='sigmoid', name='hidden2'))\n",
        "model.add(layers.Dense(1, activation='sigmoid', name='output'))"
      ],
      "execution_count": null,
      "outputs": []
    },
    {
      "cell_type": "code",
      "metadata": {
        "id": "ntAfj4viUmfI",
        "outputId": "fd1e6188-43bc-430b-a93e-9d2a21623ddc",
        "colab": {
          "base_uri": "https://localhost:8080/",
          "height": 265
        }
      },
      "source": [
        "model.summary()"
      ],
      "execution_count": null,
      "outputs": [
        {
          "output_type": "stream",
          "text": [
            "Model: \"Back-Propagation\"\n",
            "_________________________________________________________________\n",
            "Layer (type)                 Output Shape              Param #   \n",
            "=================================================================\n",
            "Hidden1 (Dense)              (None, 64)                576       \n",
            "_________________________________________________________________\n",
            "hidden2 (Dense)              (None, 64)                4160      \n",
            "_________________________________________________________________\n",
            "output (Dense)               (None, 1)                 65        \n",
            "=================================================================\n",
            "Total params: 4,801\n",
            "Trainable params: 4,801\n",
            "Non-trainable params: 0\n",
            "_________________________________________________________________\n"
          ],
          "name": "stdout"
        }
      ]
    },
    {
      "cell_type": "code",
      "metadata": {
        "id": "-ruI7_ZuUnQ3"
      },
      "source": [
        "model.compile(loss=keras.losses.binary_crossentropy, optimizer='adam', metrics=['accuracy'])"
      ],
      "execution_count": null,
      "outputs": []
    },
    {
      "cell_type": "markdown",
      "metadata": {
        "id": "aeXlyAOZPI6G"
      },
      "source": [
        "training my model"
      ]
    },
    {
      "cell_type": "code",
      "metadata": {
        "id": "tLctXcFQUqKU",
        "outputId": "67f7d288-1265-4c29-b7fc-6eb32694e2b6",
        "colab": {
          "base_uri": "https://localhost:8080/",
          "height": 1000
        }
      },
      "source": [
        "output=model.fit(X, target, epochs=500)"
      ],
      "execution_count": null,
      "outputs": [
        {
          "output_type": "stream",
          "text": [
            "Epoch 1/500\n",
            "24/24 [==============================] - 0s 1ms/step - loss: 0.6458 - accuracy: 0.6519\n",
            "Epoch 2/500\n",
            "24/24 [==============================] - 0s 2ms/step - loss: 0.6320 - accuracy: 0.6519\n",
            "Epoch 3/500\n",
            "24/24 [==============================] - 0s 1ms/step - loss: 0.6248 - accuracy: 0.6519\n",
            "Epoch 4/500\n",
            "24/24 [==============================] - 0s 2ms/step - loss: 0.6193 - accuracy: 0.6519\n",
            "Epoch 5/500\n",
            "24/24 [==============================] - 0s 2ms/step - loss: 0.6112 - accuracy: 0.6545\n",
            "Epoch 6/500\n",
            "24/24 [==============================] - 0s 1ms/step - loss: 0.6028 - accuracy: 0.6506\n",
            "Epoch 7/500\n",
            "24/24 [==============================] - 0s 1ms/step - loss: 0.5963 - accuracy: 0.6623\n",
            "Epoch 8/500\n",
            "24/24 [==============================] - 0s 2ms/step - loss: 0.5883 - accuracy: 0.6741\n",
            "Epoch 9/500\n",
            "24/24 [==============================] - 0s 2ms/step - loss: 0.5794 - accuracy: 0.6741\n",
            "Epoch 10/500\n",
            "24/24 [==============================] - 0s 3ms/step - loss: 0.5757 - accuracy: 0.7066\n",
            "Epoch 11/500\n",
            "24/24 [==============================] - 0s 1ms/step - loss: 0.5723 - accuracy: 0.7093\n",
            "Epoch 12/500\n",
            "24/24 [==============================] - 0s 1ms/step - loss: 0.5653 - accuracy: 0.7171\n",
            "Epoch 13/500\n",
            "24/24 [==============================] - 0s 1ms/step - loss: 0.5620 - accuracy: 0.7184\n",
            "Epoch 14/500\n",
            "24/24 [==============================] - 0s 1ms/step - loss: 0.5576 - accuracy: 0.7249\n",
            "Epoch 15/500\n",
            "24/24 [==============================] - 0s 1ms/step - loss: 0.5534 - accuracy: 0.7223\n",
            "Epoch 16/500\n",
            "24/24 [==============================] - 0s 1ms/step - loss: 0.5534 - accuracy: 0.7236\n",
            "Epoch 17/500\n",
            "24/24 [==============================] - 0s 1ms/step - loss: 0.5501 - accuracy: 0.7249\n",
            "Epoch 18/500\n",
            "24/24 [==============================] - 0s 2ms/step - loss: 0.5464 - accuracy: 0.7184\n",
            "Epoch 19/500\n",
            "24/24 [==============================] - 0s 2ms/step - loss: 0.5480 - accuracy: 0.7210\n",
            "Epoch 20/500\n",
            "24/24 [==============================] - 0s 2ms/step - loss: 0.5458 - accuracy: 0.7275\n",
            "Epoch 21/500\n",
            "24/24 [==============================] - 0s 1ms/step - loss: 0.5381 - accuracy: 0.7379\n",
            "Epoch 22/500\n",
            "24/24 [==============================] - 0s 2ms/step - loss: 0.5354 - accuracy: 0.7445\n",
            "Epoch 23/500\n",
            "24/24 [==============================] - 0s 2ms/step - loss: 0.5358 - accuracy: 0.7366\n",
            "Epoch 24/500\n",
            "24/24 [==============================] - 0s 2ms/step - loss: 0.5321 - accuracy: 0.7379\n",
            "Epoch 25/500\n",
            "24/24 [==============================] - 0s 2ms/step - loss: 0.5335 - accuracy: 0.7405\n",
            "Epoch 26/500\n",
            "24/24 [==============================] - 0s 2ms/step - loss: 0.5273 - accuracy: 0.7262\n",
            "Epoch 27/500\n",
            "24/24 [==============================] - 0s 2ms/step - loss: 0.5383 - accuracy: 0.7314\n",
            "Epoch 28/500\n",
            "24/24 [==============================] - 0s 2ms/step - loss: 0.5297 - accuracy: 0.7366\n",
            "Epoch 29/500\n",
            "24/24 [==============================] - 0s 1ms/step - loss: 0.5250 - accuracy: 0.7379\n",
            "Epoch 30/500\n",
            "24/24 [==============================] - 0s 1ms/step - loss: 0.5242 - accuracy: 0.7471\n",
            "Epoch 31/500\n",
            "24/24 [==============================] - 0s 4ms/step - loss: 0.5235 - accuracy: 0.7392\n",
            "Epoch 32/500\n",
            "24/24 [==============================] - 0s 2ms/step - loss: 0.5268 - accuracy: 0.7366\n",
            "Epoch 33/500\n",
            "24/24 [==============================] - 0s 1ms/step - loss: 0.5242 - accuracy: 0.7392\n",
            "Epoch 34/500\n",
            "24/24 [==============================] - 0s 2ms/step - loss: 0.5173 - accuracy: 0.7445\n",
            "Epoch 35/500\n",
            "24/24 [==============================] - 0s 1ms/step - loss: 0.5162 - accuracy: 0.7471\n",
            "Epoch 36/500\n",
            "24/24 [==============================] - 0s 1ms/step - loss: 0.5151 - accuracy: 0.7523\n",
            "Epoch 37/500\n",
            "24/24 [==============================] - 0s 1ms/step - loss: 0.5131 - accuracy: 0.7445\n",
            "Epoch 38/500\n",
            "24/24 [==============================] - 0s 2ms/step - loss: 0.5203 - accuracy: 0.7366\n",
            "Epoch 39/500\n",
            "24/24 [==============================] - 0s 1ms/step - loss: 0.5164 - accuracy: 0.7392\n",
            "Epoch 40/500\n",
            "24/24 [==============================] - 0s 1ms/step - loss: 0.5186 - accuracy: 0.7484\n",
            "Epoch 41/500\n",
            "24/24 [==============================] - 0s 2ms/step - loss: 0.5228 - accuracy: 0.7549\n",
            "Epoch 42/500\n",
            "24/24 [==============================] - 0s 2ms/step - loss: 0.5101 - accuracy: 0.7419\n",
            "Epoch 43/500\n",
            "24/24 [==============================] - 0s 1ms/step - loss: 0.5136 - accuracy: 0.7379\n",
            "Epoch 44/500\n",
            "24/24 [==============================] - 0s 2ms/step - loss: 0.5128 - accuracy: 0.7275\n",
            "Epoch 45/500\n",
            "24/24 [==============================] - 0s 2ms/step - loss: 0.5128 - accuracy: 0.7419\n",
            "Epoch 46/500\n",
            "24/24 [==============================] - 0s 1ms/step - loss: 0.5046 - accuracy: 0.7471\n",
            "Epoch 47/500\n",
            "24/24 [==============================] - 0s 2ms/step - loss: 0.5055 - accuracy: 0.7458\n",
            "Epoch 48/500\n",
            "24/24 [==============================] - 0s 2ms/step - loss: 0.5050 - accuracy: 0.7549\n",
            "Epoch 49/500\n",
            "24/24 [==============================] - 0s 1ms/step - loss: 0.5030 - accuracy: 0.7549\n",
            "Epoch 50/500\n",
            "24/24 [==============================] - 0s 1ms/step - loss: 0.5007 - accuracy: 0.7510\n",
            "Epoch 51/500\n",
            "24/24 [==============================] - 0s 1ms/step - loss: 0.5051 - accuracy: 0.7497\n",
            "Epoch 52/500\n",
            "24/24 [==============================] - 0s 2ms/step - loss: 0.4967 - accuracy: 0.7497\n",
            "Epoch 53/500\n",
            "24/24 [==============================] - 0s 2ms/step - loss: 0.4985 - accuracy: 0.7601\n",
            "Epoch 54/500\n",
            "24/24 [==============================] - 0s 2ms/step - loss: 0.4988 - accuracy: 0.7405\n",
            "Epoch 55/500\n",
            "24/24 [==============================] - 0s 2ms/step - loss: 0.5001 - accuracy: 0.7588\n",
            "Epoch 56/500\n",
            "24/24 [==============================] - 0s 2ms/step - loss: 0.4975 - accuracy: 0.7484\n",
            "Epoch 57/500\n",
            "24/24 [==============================] - 0s 1ms/step - loss: 0.4974 - accuracy: 0.7549\n",
            "Epoch 58/500\n",
            "24/24 [==============================] - 0s 1ms/step - loss: 0.4894 - accuracy: 0.7562\n",
            "Epoch 59/500\n",
            "24/24 [==============================] - 0s 1ms/step - loss: 0.4900 - accuracy: 0.7523\n",
            "Epoch 60/500\n",
            "24/24 [==============================] - 0s 1ms/step - loss: 0.4879 - accuracy: 0.7575\n",
            "Epoch 61/500\n",
            "24/24 [==============================] - 0s 1ms/step - loss: 0.4891 - accuracy: 0.7549\n",
            "Epoch 62/500\n",
            "24/24 [==============================] - 0s 1ms/step - loss: 0.4857 - accuracy: 0.7510\n",
            "Epoch 63/500\n",
            "24/24 [==============================] - 0s 1ms/step - loss: 0.4848 - accuracy: 0.7549\n",
            "Epoch 64/500\n",
            "24/24 [==============================] - 0s 1ms/step - loss: 0.4809 - accuracy: 0.7588\n",
            "Epoch 65/500\n",
            "24/24 [==============================] - 0s 1ms/step - loss: 0.4842 - accuracy: 0.7640\n",
            "Epoch 66/500\n",
            "24/24 [==============================] - 0s 1ms/step - loss: 0.4882 - accuracy: 0.7549\n",
            "Epoch 67/500\n",
            "24/24 [==============================] - 0s 1ms/step - loss: 0.4803 - accuracy: 0.7562\n",
            "Epoch 68/500\n",
            "24/24 [==============================] - 0s 2ms/step - loss: 0.4808 - accuracy: 0.7575\n",
            "Epoch 69/500\n",
            "24/24 [==============================] - 0s 2ms/step - loss: 0.4807 - accuracy: 0.7614\n",
            "Epoch 70/500\n",
            "24/24 [==============================] - 0s 2ms/step - loss: 0.4799 - accuracy: 0.7575\n",
            "Epoch 71/500\n",
            "24/24 [==============================] - 0s 2ms/step - loss: 0.4842 - accuracy: 0.7523\n",
            "Epoch 72/500\n",
            "24/24 [==============================] - 0s 2ms/step - loss: 0.4820 - accuracy: 0.7562\n",
            "Epoch 73/500\n",
            "24/24 [==============================] - 0s 2ms/step - loss: 0.4784 - accuracy: 0.7562\n",
            "Epoch 74/500\n",
            "24/24 [==============================] - 0s 1ms/step - loss: 0.4791 - accuracy: 0.7627\n",
            "Epoch 75/500\n",
            "24/24 [==============================] - 0s 1ms/step - loss: 0.4748 - accuracy: 0.7679\n",
            "Epoch 76/500\n",
            "24/24 [==============================] - 0s 2ms/step - loss: 0.4747 - accuracy: 0.7705\n",
            "Epoch 77/500\n",
            "24/24 [==============================] - 0s 2ms/step - loss: 0.4815 - accuracy: 0.7653\n",
            "Epoch 78/500\n",
            "24/24 [==============================] - 0s 2ms/step - loss: 0.4810 - accuracy: 0.7536\n",
            "Epoch 79/500\n",
            "24/24 [==============================] - 0s 1ms/step - loss: 0.4728 - accuracy: 0.7744\n",
            "Epoch 80/500\n",
            "24/24 [==============================] - 0s 1ms/step - loss: 0.4846 - accuracy: 0.7614\n",
            "Epoch 81/500\n",
            "24/24 [==============================] - 0s 2ms/step - loss: 0.4785 - accuracy: 0.7523\n",
            "Epoch 82/500\n",
            "24/24 [==============================] - 0s 2ms/step - loss: 0.4759 - accuracy: 0.7549\n",
            "Epoch 83/500\n",
            "24/24 [==============================] - 0s 1ms/step - loss: 0.4709 - accuracy: 0.7679\n",
            "Epoch 84/500\n",
            "24/24 [==============================] - 0s 1ms/step - loss: 0.4771 - accuracy: 0.7627\n",
            "Epoch 85/500\n",
            "24/24 [==============================] - 0s 1ms/step - loss: 0.4726 - accuracy: 0.7614\n",
            "Epoch 86/500\n",
            "24/24 [==============================] - 0s 2ms/step - loss: 0.4691 - accuracy: 0.7692\n",
            "Epoch 87/500\n",
            "24/24 [==============================] - 0s 2ms/step - loss: 0.4704 - accuracy: 0.7692\n",
            "Epoch 88/500\n",
            "24/24 [==============================] - 0s 2ms/step - loss: 0.4623 - accuracy: 0.7731\n",
            "Epoch 89/500\n",
            "24/24 [==============================] - 0s 2ms/step - loss: 0.4749 - accuracy: 0.7601\n",
            "Epoch 90/500\n",
            "24/24 [==============================] - 0s 2ms/step - loss: 0.4641 - accuracy: 0.7731\n",
            "Epoch 91/500\n",
            "24/24 [==============================] - 0s 2ms/step - loss: 0.4739 - accuracy: 0.7601\n",
            "Epoch 92/500\n",
            "24/24 [==============================] - 0s 2ms/step - loss: 0.4723 - accuracy: 0.7692\n",
            "Epoch 93/500\n",
            "24/24 [==============================] - 0s 1ms/step - loss: 0.4651 - accuracy: 0.7640\n",
            "Epoch 94/500\n",
            "24/24 [==============================] - 0s 2ms/step - loss: 0.4742 - accuracy: 0.7588\n",
            "Epoch 95/500\n",
            "24/24 [==============================] - 0s 1ms/step - loss: 0.4640 - accuracy: 0.7692\n",
            "Epoch 96/500\n",
            "24/24 [==============================] - 0s 2ms/step - loss: 0.4633 - accuracy: 0.7679\n",
            "Epoch 97/500\n",
            "24/24 [==============================] - 0s 1ms/step - loss: 0.4681 - accuracy: 0.7640\n",
            "Epoch 98/500\n",
            "24/24 [==============================] - 0s 2ms/step - loss: 0.4713 - accuracy: 0.7666\n",
            "Epoch 99/500\n",
            "24/24 [==============================] - 0s 2ms/step - loss: 0.4621 - accuracy: 0.7731\n",
            "Epoch 100/500\n",
            "24/24 [==============================] - 0s 2ms/step - loss: 0.4591 - accuracy: 0.7679\n",
            "Epoch 101/500\n",
            "24/24 [==============================] - 0s 2ms/step - loss: 0.4599 - accuracy: 0.7718\n",
            "Epoch 102/500\n",
            "24/24 [==============================] - 0s 2ms/step - loss: 0.4652 - accuracy: 0.7614\n",
            "Epoch 103/500\n",
            "24/24 [==============================] - 0s 2ms/step - loss: 0.4613 - accuracy: 0.7653\n",
            "Epoch 104/500\n",
            "24/24 [==============================] - 0s 2ms/step - loss: 0.4589 - accuracy: 0.7797\n",
            "Epoch 105/500\n",
            "24/24 [==============================] - 0s 1ms/step - loss: 0.4702 - accuracy: 0.7562\n",
            "Epoch 106/500\n",
            "24/24 [==============================] - 0s 2ms/step - loss: 0.4658 - accuracy: 0.7627\n",
            "Epoch 107/500\n",
            "24/24 [==============================] - 0s 2ms/step - loss: 0.4560 - accuracy: 0.7718\n",
            "Epoch 108/500\n",
            "24/24 [==============================] - 0s 2ms/step - loss: 0.4570 - accuracy: 0.7810\n",
            "Epoch 109/500\n",
            "24/24 [==============================] - 0s 2ms/step - loss: 0.4558 - accuracy: 0.7744\n",
            "Epoch 110/500\n",
            "24/24 [==============================] - 0s 1ms/step - loss: 0.4658 - accuracy: 0.7666\n",
            "Epoch 111/500\n",
            "24/24 [==============================] - 0s 2ms/step - loss: 0.4568 - accuracy: 0.7705\n",
            "Epoch 112/500\n",
            "24/24 [==============================] - 0s 2ms/step - loss: 0.4573 - accuracy: 0.7771\n",
            "Epoch 113/500\n",
            "24/24 [==============================] - 0s 2ms/step - loss: 0.4611 - accuracy: 0.7744\n",
            "Epoch 114/500\n",
            "24/24 [==============================] - 0s 2ms/step - loss: 0.4564 - accuracy: 0.7640\n",
            "Epoch 115/500\n",
            "24/24 [==============================] - 0s 2ms/step - loss: 0.4467 - accuracy: 0.7731\n",
            "Epoch 116/500\n",
            "24/24 [==============================] - 0s 2ms/step - loss: 0.4493 - accuracy: 0.7810\n",
            "Epoch 117/500\n",
            "24/24 [==============================] - 0s 2ms/step - loss: 0.4513 - accuracy: 0.7875\n",
            "Epoch 118/500\n",
            "24/24 [==============================] - 0s 2ms/step - loss: 0.4561 - accuracy: 0.7744\n",
            "Epoch 119/500\n",
            "24/24 [==============================] - 0s 2ms/step - loss: 0.4466 - accuracy: 0.7771\n",
            "Epoch 120/500\n",
            "24/24 [==============================] - 0s 2ms/step - loss: 0.4452 - accuracy: 0.7797\n",
            "Epoch 121/500\n",
            "24/24 [==============================] - 0s 2ms/step - loss: 0.4464 - accuracy: 0.7836\n",
            "Epoch 122/500\n",
            "24/24 [==============================] - 0s 2ms/step - loss: 0.4499 - accuracy: 0.7757\n",
            "Epoch 123/500\n",
            "24/24 [==============================] - 0s 2ms/step - loss: 0.4605 - accuracy: 0.7705\n",
            "Epoch 124/500\n",
            "24/24 [==============================] - 0s 2ms/step - loss: 0.4460 - accuracy: 0.7692\n",
            "Epoch 125/500\n",
            "24/24 [==============================] - 0s 2ms/step - loss: 0.4450 - accuracy: 0.7797\n",
            "Epoch 126/500\n",
            "24/24 [==============================] - 0s 2ms/step - loss: 0.4534 - accuracy: 0.7810\n",
            "Epoch 127/500\n",
            "24/24 [==============================] - 0s 2ms/step - loss: 0.4440 - accuracy: 0.7836\n",
            "Epoch 128/500\n",
            "24/24 [==============================] - 0s 2ms/step - loss: 0.4424 - accuracy: 0.7797\n",
            "Epoch 129/500\n",
            "24/24 [==============================] - 0s 2ms/step - loss: 0.4396 - accuracy: 0.7771\n",
            "Epoch 130/500\n",
            "24/24 [==============================] - 0s 1ms/step - loss: 0.4504 - accuracy: 0.7875\n",
            "Epoch 131/500\n",
            "24/24 [==============================] - 0s 1ms/step - loss: 0.4416 - accuracy: 0.7823\n",
            "Epoch 132/500\n",
            "24/24 [==============================] - 0s 2ms/step - loss: 0.4439 - accuracy: 0.7810\n",
            "Epoch 133/500\n",
            "24/24 [==============================] - 0s 2ms/step - loss: 0.4434 - accuracy: 0.7797\n",
            "Epoch 134/500\n",
            "24/24 [==============================] - 0s 2ms/step - loss: 0.4380 - accuracy: 0.7862\n",
            "Epoch 135/500\n",
            "24/24 [==============================] - 0s 2ms/step - loss: 0.4477 - accuracy: 0.7862\n",
            "Epoch 136/500\n",
            "24/24 [==============================] - 0s 1ms/step - loss: 0.4384 - accuracy: 0.7823\n",
            "Epoch 137/500\n",
            "24/24 [==============================] - 0s 2ms/step - loss: 0.4400 - accuracy: 0.7862\n",
            "Epoch 138/500\n",
            "24/24 [==============================] - 0s 2ms/step - loss: 0.4351 - accuracy: 0.7836\n",
            "Epoch 139/500\n",
            "24/24 [==============================] - 0s 2ms/step - loss: 0.4326 - accuracy: 0.7888\n",
            "Epoch 140/500\n",
            "24/24 [==============================] - 0s 2ms/step - loss: 0.4403 - accuracy: 0.7927\n",
            "Epoch 141/500\n",
            "24/24 [==============================] - 0s 2ms/step - loss: 0.4377 - accuracy: 0.7744\n",
            "Epoch 142/500\n",
            "24/24 [==============================] - 0s 2ms/step - loss: 0.4421 - accuracy: 0.7810\n",
            "Epoch 143/500\n",
            "24/24 [==============================] - 0s 1ms/step - loss: 0.4325 - accuracy: 0.7862\n",
            "Epoch 144/500\n",
            "24/24 [==============================] - 0s 2ms/step - loss: 0.4310 - accuracy: 0.7862\n",
            "Epoch 145/500\n",
            "24/24 [==============================] - 0s 1ms/step - loss: 0.4330 - accuracy: 0.7875\n",
            "Epoch 146/500\n",
            "24/24 [==============================] - 0s 2ms/step - loss: 0.4333 - accuracy: 0.7875\n",
            "Epoch 147/500\n",
            "24/24 [==============================] - 0s 2ms/step - loss: 0.4299 - accuracy: 0.7862\n",
            "Epoch 148/500\n",
            "24/24 [==============================] - 0s 2ms/step - loss: 0.4331 - accuracy: 0.7836\n",
            "Epoch 149/500\n",
            "24/24 [==============================] - 0s 2ms/step - loss: 0.4394 - accuracy: 0.7705\n",
            "Epoch 150/500\n",
            "24/24 [==============================] - 0s 2ms/step - loss: 0.4253 - accuracy: 0.7927\n",
            "Epoch 151/500\n",
            "24/24 [==============================] - 0s 1ms/step - loss: 0.4309 - accuracy: 0.7836\n",
            "Epoch 152/500\n",
            "24/24 [==============================] - 0s 2ms/step - loss: 0.4291 - accuracy: 0.7797\n",
            "Epoch 153/500\n",
            "24/24 [==============================] - 0s 2ms/step - loss: 0.4224 - accuracy: 0.7940\n",
            "Epoch 154/500\n",
            "24/24 [==============================] - 0s 2ms/step - loss: 0.4265 - accuracy: 0.7953\n",
            "Epoch 155/500\n",
            "24/24 [==============================] - 0s 2ms/step - loss: 0.4262 - accuracy: 0.7810\n",
            "Epoch 156/500\n",
            "24/24 [==============================] - 0s 2ms/step - loss: 0.4283 - accuracy: 0.8018\n",
            "Epoch 157/500\n",
            "24/24 [==============================] - 0s 2ms/step - loss: 0.4255 - accuracy: 0.7979\n",
            "Epoch 158/500\n",
            "24/24 [==============================] - 0s 2ms/step - loss: 0.4236 - accuracy: 0.7797\n",
            "Epoch 159/500\n",
            "24/24 [==============================] - 0s 2ms/step - loss: 0.4191 - accuracy: 0.7836\n",
            "Epoch 160/500\n",
            "24/24 [==============================] - 0s 1ms/step - loss: 0.4184 - accuracy: 0.7836\n",
            "Epoch 161/500\n",
            "24/24 [==============================] - 0s 2ms/step - loss: 0.4216 - accuracy: 0.7849\n",
            "Epoch 162/500\n",
            "24/24 [==============================] - 0s 2ms/step - loss: 0.4355 - accuracy: 0.7849\n",
            "Epoch 163/500\n",
            "24/24 [==============================] - 0s 2ms/step - loss: 0.4290 - accuracy: 0.7810\n",
            "Epoch 164/500\n",
            "24/24 [==============================] - 0s 2ms/step - loss: 0.4198 - accuracy: 0.7888\n",
            "Epoch 165/500\n",
            "24/24 [==============================] - 0s 2ms/step - loss: 0.4114 - accuracy: 0.7901\n",
            "Epoch 166/500\n",
            "24/24 [==============================] - 0s 2ms/step - loss: 0.4157 - accuracy: 0.7992\n",
            "Epoch 167/500\n",
            "24/24 [==============================] - 0s 2ms/step - loss: 0.4157 - accuracy: 0.7927\n",
            "Epoch 168/500\n",
            "24/24 [==============================] - 0s 2ms/step - loss: 0.4099 - accuracy: 0.7992\n",
            "Epoch 169/500\n",
            "24/24 [==============================] - 0s 2ms/step - loss: 0.4148 - accuracy: 0.7953\n",
            "Epoch 170/500\n",
            "24/24 [==============================] - 0s 1ms/step - loss: 0.4202 - accuracy: 0.7849\n",
            "Epoch 171/500\n",
            "24/24 [==============================] - 0s 2ms/step - loss: 0.4095 - accuracy: 0.8018\n",
            "Epoch 172/500\n",
            "24/24 [==============================] - 0s 1ms/step - loss: 0.4095 - accuracy: 0.8057\n",
            "Epoch 173/500\n",
            "24/24 [==============================] - 0s 2ms/step - loss: 0.4071 - accuracy: 0.8083\n",
            "Epoch 174/500\n",
            "24/24 [==============================] - 0s 2ms/step - loss: 0.4035 - accuracy: 0.8096\n",
            "Epoch 175/500\n",
            "24/24 [==============================] - 0s 3ms/step - loss: 0.4082 - accuracy: 0.7979\n",
            "Epoch 176/500\n",
            "24/24 [==============================] - 0s 2ms/step - loss: 0.4070 - accuracy: 0.8149\n",
            "Epoch 177/500\n",
            "24/24 [==============================] - 0s 2ms/step - loss: 0.4040 - accuracy: 0.7953\n",
            "Epoch 178/500\n",
            "24/24 [==============================] - 0s 2ms/step - loss: 0.4044 - accuracy: 0.8096\n",
            "Epoch 179/500\n",
            "24/24 [==============================] - 0s 2ms/step - loss: 0.4105 - accuracy: 0.8005\n",
            "Epoch 180/500\n",
            "24/24 [==============================] - 0s 2ms/step - loss: 0.4127 - accuracy: 0.8031\n",
            "Epoch 181/500\n",
            "24/24 [==============================] - 0s 2ms/step - loss: 0.4034 - accuracy: 0.8031\n",
            "Epoch 182/500\n",
            "24/24 [==============================] - 0s 2ms/step - loss: 0.3966 - accuracy: 0.8044\n",
            "Epoch 183/500\n",
            "24/24 [==============================] - 0s 2ms/step - loss: 0.3967 - accuracy: 0.8136\n",
            "Epoch 184/500\n",
            "24/24 [==============================] - 0s 2ms/step - loss: 0.3998 - accuracy: 0.8018\n",
            "Epoch 185/500\n",
            "24/24 [==============================] - 0s 2ms/step - loss: 0.4167 - accuracy: 0.7953\n",
            "Epoch 186/500\n",
            "24/24 [==============================] - 0s 2ms/step - loss: 0.4075 - accuracy: 0.7966\n",
            "Epoch 187/500\n",
            "24/24 [==============================] - 0s 2ms/step - loss: 0.3998 - accuracy: 0.8005\n",
            "Epoch 188/500\n",
            "24/24 [==============================] - 0s 2ms/step - loss: 0.3974 - accuracy: 0.8096\n",
            "Epoch 189/500\n",
            "24/24 [==============================] - 0s 2ms/step - loss: 0.3943 - accuracy: 0.8031\n",
            "Epoch 190/500\n",
            "24/24 [==============================] - 0s 2ms/step - loss: 0.3923 - accuracy: 0.8149\n",
            "Epoch 191/500\n",
            "24/24 [==============================] - 0s 2ms/step - loss: 0.3904 - accuracy: 0.8201\n",
            "Epoch 192/500\n",
            "24/24 [==============================] - 0s 2ms/step - loss: 0.3877 - accuracy: 0.8201\n",
            "Epoch 193/500\n",
            "24/24 [==============================] - 0s 2ms/step - loss: 0.3914 - accuracy: 0.8136\n",
            "Epoch 194/500\n",
            "24/24 [==============================] - 0s 2ms/step - loss: 0.3901 - accuracy: 0.8149\n",
            "Epoch 195/500\n",
            "24/24 [==============================] - 0s 2ms/step - loss: 0.3931 - accuracy: 0.8110\n",
            "Epoch 196/500\n",
            "24/24 [==============================] - 0s 2ms/step - loss: 0.3862 - accuracy: 0.8083\n",
            "Epoch 197/500\n",
            "24/24 [==============================] - 0s 2ms/step - loss: 0.4014 - accuracy: 0.7953\n",
            "Epoch 198/500\n",
            "24/24 [==============================] - 0s 2ms/step - loss: 0.3886 - accuracy: 0.8123\n",
            "Epoch 199/500\n",
            "24/24 [==============================] - 0s 3ms/step - loss: 0.3971 - accuracy: 0.8096\n",
            "Epoch 200/500\n",
            "24/24 [==============================] - 0s 2ms/step - loss: 0.3813 - accuracy: 0.8149\n",
            "Epoch 201/500\n",
            "24/24 [==============================] - 0s 2ms/step - loss: 0.3807 - accuracy: 0.8240\n",
            "Epoch 202/500\n",
            "24/24 [==============================] - 0s 2ms/step - loss: 0.3831 - accuracy: 0.8253\n",
            "Epoch 203/500\n",
            "24/24 [==============================] - 0s 2ms/step - loss: 0.3819 - accuracy: 0.8149\n",
            "Epoch 204/500\n",
            "24/24 [==============================] - 0s 2ms/step - loss: 0.3902 - accuracy: 0.8070\n",
            "Epoch 205/500\n",
            "24/24 [==============================] - 0s 2ms/step - loss: 0.3805 - accuracy: 0.8149\n",
            "Epoch 206/500\n",
            "24/24 [==============================] - 0s 2ms/step - loss: 0.3816 - accuracy: 0.8136\n",
            "Epoch 207/500\n",
            "24/24 [==============================] - 0s 2ms/step - loss: 0.3740 - accuracy: 0.8175\n",
            "Epoch 208/500\n",
            "24/24 [==============================] - 0s 2ms/step - loss: 0.3874 - accuracy: 0.8110\n",
            "Epoch 209/500\n",
            "24/24 [==============================] - 0s 2ms/step - loss: 0.3873 - accuracy: 0.8214\n",
            "Epoch 210/500\n",
            "24/24 [==============================] - 0s 2ms/step - loss: 0.3780 - accuracy: 0.8162\n",
            "Epoch 211/500\n",
            "24/24 [==============================] - 0s 2ms/step - loss: 0.3786 - accuracy: 0.8136\n",
            "Epoch 212/500\n",
            "24/24 [==============================] - 0s 2ms/step - loss: 0.3890 - accuracy: 0.8057\n",
            "Epoch 213/500\n",
            "24/24 [==============================] - 0s 2ms/step - loss: 0.3833 - accuracy: 0.8096\n",
            "Epoch 214/500\n",
            "24/24 [==============================] - 0s 2ms/step - loss: 0.3739 - accuracy: 0.8214\n",
            "Epoch 215/500\n",
            "24/24 [==============================] - 0s 2ms/step - loss: 0.3684 - accuracy: 0.8214\n",
            "Epoch 216/500\n",
            "24/24 [==============================] - 0s 1ms/step - loss: 0.3768 - accuracy: 0.8149\n",
            "Epoch 217/500\n",
            "24/24 [==============================] - 0s 1ms/step - loss: 0.3829 - accuracy: 0.8031\n",
            "Epoch 218/500\n",
            "24/24 [==============================] - 0s 2ms/step - loss: 0.3726 - accuracy: 0.8357\n",
            "Epoch 219/500\n",
            "24/24 [==============================] - 0s 2ms/step - loss: 0.3798 - accuracy: 0.8149\n",
            "Epoch 220/500\n",
            "24/24 [==============================] - 0s 1ms/step - loss: 0.3697 - accuracy: 0.8201\n",
            "Epoch 221/500\n",
            "24/24 [==============================] - 0s 2ms/step - loss: 0.3699 - accuracy: 0.8162\n",
            "Epoch 222/500\n",
            "24/24 [==============================] - 0s 2ms/step - loss: 0.3707 - accuracy: 0.8162\n",
            "Epoch 223/500\n",
            "24/24 [==============================] - 0s 2ms/step - loss: 0.3633 - accuracy: 0.8305\n",
            "Epoch 224/500\n",
            "24/24 [==============================] - 0s 2ms/step - loss: 0.3675 - accuracy: 0.8357\n",
            "Epoch 225/500\n",
            "24/24 [==============================] - 0s 2ms/step - loss: 0.3658 - accuracy: 0.8331\n",
            "Epoch 226/500\n",
            "24/24 [==============================] - 0s 1ms/step - loss: 0.3672 - accuracy: 0.8214\n",
            "Epoch 227/500\n",
            "24/24 [==============================] - 0s 2ms/step - loss: 0.3681 - accuracy: 0.8110\n",
            "Epoch 228/500\n",
            "24/24 [==============================] - 0s 2ms/step - loss: 0.3677 - accuracy: 0.8175\n",
            "Epoch 229/500\n",
            "24/24 [==============================] - 0s 2ms/step - loss: 0.3625 - accuracy: 0.8227\n",
            "Epoch 230/500\n",
            "24/24 [==============================] - 0s 2ms/step - loss: 0.3569 - accuracy: 0.8305\n",
            "Epoch 231/500\n",
            "24/24 [==============================] - 0s 2ms/step - loss: 0.3631 - accuracy: 0.8136\n",
            "Epoch 232/500\n",
            "24/24 [==============================] - 0s 2ms/step - loss: 0.3641 - accuracy: 0.8318\n",
            "Epoch 233/500\n",
            "24/24 [==============================] - 0s 2ms/step - loss: 0.3640 - accuracy: 0.8279\n",
            "Epoch 234/500\n",
            "24/24 [==============================] - 0s 2ms/step - loss: 0.3640 - accuracy: 0.8253\n",
            "Epoch 235/500\n",
            "24/24 [==============================] - 0s 2ms/step - loss: 0.3680 - accuracy: 0.8227\n",
            "Epoch 236/500\n",
            "24/24 [==============================] - 0s 2ms/step - loss: 0.3560 - accuracy: 0.8201\n",
            "Epoch 237/500\n",
            "24/24 [==============================] - 0s 2ms/step - loss: 0.3551 - accuracy: 0.8331\n",
            "Epoch 238/500\n",
            "24/24 [==============================] - 0s 2ms/step - loss: 0.3521 - accuracy: 0.8396\n",
            "Epoch 239/500\n",
            "24/24 [==============================] - 0s 2ms/step - loss: 0.3620 - accuracy: 0.8240\n",
            "Epoch 240/500\n",
            "24/24 [==============================] - 0s 2ms/step - loss: 0.3623 - accuracy: 0.8331\n",
            "Epoch 241/500\n",
            "24/24 [==============================] - 0s 2ms/step - loss: 0.3595 - accuracy: 0.8253\n",
            "Epoch 242/500\n",
            "24/24 [==============================] - 0s 2ms/step - loss: 0.3496 - accuracy: 0.8305\n",
            "Epoch 243/500\n",
            "24/24 [==============================] - 0s 1ms/step - loss: 0.3551 - accuracy: 0.8253\n",
            "Epoch 244/500\n",
            "24/24 [==============================] - 0s 2ms/step - loss: 0.3761 - accuracy: 0.8240\n",
            "Epoch 245/500\n",
            "24/24 [==============================] - 0s 2ms/step - loss: 0.3471 - accuracy: 0.8383\n",
            "Epoch 246/500\n",
            "24/24 [==============================] - 0s 2ms/step - loss: 0.3561 - accuracy: 0.8292\n",
            "Epoch 247/500\n",
            "24/24 [==============================] - 0s 2ms/step - loss: 0.3563 - accuracy: 0.8175\n",
            "Epoch 248/500\n",
            "24/24 [==============================] - 0s 2ms/step - loss: 0.3528 - accuracy: 0.8292\n",
            "Epoch 249/500\n",
            "24/24 [==============================] - 0s 2ms/step - loss: 0.3715 - accuracy: 0.8162\n",
            "Epoch 250/500\n",
            "24/24 [==============================] - 0s 2ms/step - loss: 0.3610 - accuracy: 0.8331\n",
            "Epoch 251/500\n",
            "24/24 [==============================] - 0s 3ms/step - loss: 0.3551 - accuracy: 0.8318\n",
            "Epoch 252/500\n",
            "24/24 [==============================] - 0s 2ms/step - loss: 0.3553 - accuracy: 0.8370\n",
            "Epoch 253/500\n",
            "24/24 [==============================] - 0s 2ms/step - loss: 0.3505 - accuracy: 0.8279\n",
            "Epoch 254/500\n",
            "24/24 [==============================] - 0s 2ms/step - loss: 0.3530 - accuracy: 0.8292\n",
            "Epoch 255/500\n",
            "24/24 [==============================] - 0s 2ms/step - loss: 0.3524 - accuracy: 0.8214\n",
            "Epoch 256/500\n",
            "24/24 [==============================] - 0s 2ms/step - loss: 0.3471 - accuracy: 0.8240\n",
            "Epoch 257/500\n",
            "24/24 [==============================] - 0s 2ms/step - loss: 0.3434 - accuracy: 0.8396\n",
            "Epoch 258/500\n",
            "24/24 [==============================] - 0s 2ms/step - loss: 0.3528 - accuracy: 0.8318\n",
            "Epoch 259/500\n",
            "24/24 [==============================] - 0s 2ms/step - loss: 0.3525 - accuracy: 0.8331\n",
            "Epoch 260/500\n",
            "24/24 [==============================] - 0s 1ms/step - loss: 0.3424 - accuracy: 0.8305\n",
            "Epoch 261/500\n",
            "24/24 [==============================] - 0s 2ms/step - loss: 0.3411 - accuracy: 0.8357\n",
            "Epoch 262/500\n",
            "24/24 [==============================] - 0s 2ms/step - loss: 0.3400 - accuracy: 0.8396\n",
            "Epoch 263/500\n",
            "24/24 [==============================] - 0s 2ms/step - loss: 0.3419 - accuracy: 0.8422\n",
            "Epoch 264/500\n",
            "24/24 [==============================] - 0s 2ms/step - loss: 0.3362 - accuracy: 0.8462\n",
            "Epoch 265/500\n",
            "24/24 [==============================] - 0s 2ms/step - loss: 0.3525 - accuracy: 0.8344\n",
            "Epoch 266/500\n",
            "24/24 [==============================] - 0s 1ms/step - loss: 0.3355 - accuracy: 0.8449\n",
            "Epoch 267/500\n",
            "24/24 [==============================] - 0s 2ms/step - loss: 0.3353 - accuracy: 0.8422\n",
            "Epoch 268/500\n",
            "24/24 [==============================] - 0s 2ms/step - loss: 0.3370 - accuracy: 0.8396\n",
            "Epoch 269/500\n",
            "24/24 [==============================] - 0s 1ms/step - loss: 0.3478 - accuracy: 0.8279\n",
            "Epoch 270/500\n",
            "24/24 [==============================] - 0s 2ms/step - loss: 0.3320 - accuracy: 0.8501\n",
            "Epoch 271/500\n",
            "24/24 [==============================] - 0s 2ms/step - loss: 0.3302 - accuracy: 0.8462\n",
            "Epoch 272/500\n",
            "24/24 [==============================] - 0s 2ms/step - loss: 0.3333 - accuracy: 0.8422\n",
            "Epoch 273/500\n",
            "24/24 [==============================] - 0s 1ms/step - loss: 0.3333 - accuracy: 0.8409\n",
            "Epoch 274/500\n",
            "24/24 [==============================] - 0s 2ms/step - loss: 0.3348 - accuracy: 0.8475\n",
            "Epoch 275/500\n",
            "24/24 [==============================] - 0s 2ms/step - loss: 0.3325 - accuracy: 0.8462\n",
            "Epoch 276/500\n",
            "24/24 [==============================] - 0s 2ms/step - loss: 0.3319 - accuracy: 0.8409\n",
            "Epoch 277/500\n",
            "24/24 [==============================] - 0s 2ms/step - loss: 0.3284 - accuracy: 0.8344\n",
            "Epoch 278/500\n",
            "24/24 [==============================] - 0s 2ms/step - loss: 0.3309 - accuracy: 0.8435\n",
            "Epoch 279/500\n",
            "24/24 [==============================] - 0s 1ms/step - loss: 0.3317 - accuracy: 0.8409\n",
            "Epoch 280/500\n",
            "24/24 [==============================] - 0s 2ms/step - loss: 0.3335 - accuracy: 0.8488\n",
            "Epoch 281/500\n",
            "24/24 [==============================] - 0s 2ms/step - loss: 0.3330 - accuracy: 0.8344\n",
            "Epoch 282/500\n",
            "24/24 [==============================] - 0s 2ms/step - loss: 0.3240 - accuracy: 0.8383\n",
            "Epoch 283/500\n",
            "24/24 [==============================] - 0s 2ms/step - loss: 0.3464 - accuracy: 0.8305\n",
            "Epoch 284/500\n",
            "24/24 [==============================] - 0s 2ms/step - loss: 0.3359 - accuracy: 0.8488\n",
            "Epoch 285/500\n",
            "24/24 [==============================] - 0s 2ms/step - loss: 0.3258 - accuracy: 0.8435\n",
            "Epoch 286/500\n",
            "24/24 [==============================] - 0s 2ms/step - loss: 0.3292 - accuracy: 0.8514\n",
            "Epoch 287/500\n",
            "24/24 [==============================] - 0s 2ms/step - loss: 0.3221 - accuracy: 0.8566\n",
            "Epoch 288/500\n",
            "24/24 [==============================] - 0s 2ms/step - loss: 0.3241 - accuracy: 0.8553\n",
            "Epoch 289/500\n",
            "24/24 [==============================] - 0s 2ms/step - loss: 0.3290 - accuracy: 0.8540\n",
            "Epoch 290/500\n",
            "24/24 [==============================] - 0s 2ms/step - loss: 0.3268 - accuracy: 0.8566\n",
            "Epoch 291/500\n",
            "24/24 [==============================] - 0s 2ms/step - loss: 0.3335 - accuracy: 0.8422\n",
            "Epoch 292/500\n",
            "24/24 [==============================] - 0s 2ms/step - loss: 0.3193 - accuracy: 0.8449\n",
            "Epoch 293/500\n",
            "24/24 [==============================] - 0s 2ms/step - loss: 0.3193 - accuracy: 0.8435\n",
            "Epoch 294/500\n",
            "24/24 [==============================] - 0s 2ms/step - loss: 0.3253 - accuracy: 0.8409\n",
            "Epoch 295/500\n",
            "24/24 [==============================] - 0s 2ms/step - loss: 0.3157 - accuracy: 0.8605\n",
            "Epoch 296/500\n",
            "24/24 [==============================] - 0s 2ms/step - loss: 0.3237 - accuracy: 0.8488\n",
            "Epoch 297/500\n",
            "24/24 [==============================] - 0s 2ms/step - loss: 0.3278 - accuracy: 0.8553\n",
            "Epoch 298/500\n",
            "24/24 [==============================] - 0s 2ms/step - loss: 0.3109 - accuracy: 0.8579\n",
            "Epoch 299/500\n",
            "24/24 [==============================] - 0s 3ms/step - loss: 0.3256 - accuracy: 0.8449\n",
            "Epoch 300/500\n",
            "24/24 [==============================] - 0s 2ms/step - loss: 0.3268 - accuracy: 0.8514\n",
            "Epoch 301/500\n",
            "24/24 [==============================] - 0s 2ms/step - loss: 0.3184 - accuracy: 0.8631\n",
            "Epoch 302/500\n",
            "24/24 [==============================] - 0s 2ms/step - loss: 0.3165 - accuracy: 0.8540\n",
            "Epoch 303/500\n",
            "24/24 [==============================] - 0s 2ms/step - loss: 0.3135 - accuracy: 0.8618\n",
            "Epoch 304/500\n",
            "24/24 [==============================] - 0s 2ms/step - loss: 0.3111 - accuracy: 0.8579\n",
            "Epoch 305/500\n",
            "24/24 [==============================] - 0s 2ms/step - loss: 0.3259 - accuracy: 0.8475\n",
            "Epoch 306/500\n",
            "24/24 [==============================] - 0s 2ms/step - loss: 0.3193 - accuracy: 0.8605\n",
            "Epoch 307/500\n",
            "24/24 [==============================] - 0s 2ms/step - loss: 0.3138 - accuracy: 0.8540\n",
            "Epoch 308/500\n",
            "24/24 [==============================] - 0s 2ms/step - loss: 0.3103 - accuracy: 0.8592\n",
            "Epoch 309/500\n",
            "24/24 [==============================] - 0s 2ms/step - loss: 0.3220 - accuracy: 0.8527\n",
            "Epoch 310/500\n",
            "24/24 [==============================] - 0s 1ms/step - loss: 0.3188 - accuracy: 0.8527\n",
            "Epoch 311/500\n",
            "24/24 [==============================] - 0s 3ms/step - loss: 0.3264 - accuracy: 0.8579\n",
            "Epoch 312/500\n",
            "24/24 [==============================] - 0s 2ms/step - loss: 0.3217 - accuracy: 0.8566\n",
            "Epoch 313/500\n",
            "24/24 [==============================] - 0s 2ms/step - loss: 0.3023 - accuracy: 0.8670\n",
            "Epoch 314/500\n",
            "24/24 [==============================] - 0s 2ms/step - loss: 0.3035 - accuracy: 0.8605\n",
            "Epoch 315/500\n",
            "24/24 [==============================] - 0s 2ms/step - loss: 0.3078 - accuracy: 0.8696\n",
            "Epoch 316/500\n",
            "24/24 [==============================] - 0s 2ms/step - loss: 0.3079 - accuracy: 0.8774\n",
            "Epoch 317/500\n",
            "24/24 [==============================] - 0s 3ms/step - loss: 0.3153 - accuracy: 0.8592\n",
            "Epoch 318/500\n",
            "24/24 [==============================] - 0s 2ms/step - loss: 0.3136 - accuracy: 0.8501\n",
            "Epoch 319/500\n",
            "24/24 [==============================] - 0s 2ms/step - loss: 0.3067 - accuracy: 0.8605\n",
            "Epoch 320/500\n",
            "24/24 [==============================] - 0s 2ms/step - loss: 0.3021 - accuracy: 0.8618\n",
            "Epoch 321/500\n",
            "24/24 [==============================] - 0s 2ms/step - loss: 0.3151 - accuracy: 0.8553\n",
            "Epoch 322/500\n",
            "24/24 [==============================] - 0s 2ms/step - loss: 0.3221 - accuracy: 0.8488\n",
            "Epoch 323/500\n",
            "24/24 [==============================] - 0s 2ms/step - loss: 0.3046 - accuracy: 0.8683\n",
            "Epoch 324/500\n",
            "24/24 [==============================] - 0s 2ms/step - loss: 0.3033 - accuracy: 0.8722\n",
            "Epoch 325/500\n",
            "24/24 [==============================] - 0s 2ms/step - loss: 0.3074 - accuracy: 0.8644\n",
            "Epoch 326/500\n",
            "24/24 [==============================] - 0s 2ms/step - loss: 0.2984 - accuracy: 0.8657\n",
            "Epoch 327/500\n",
            "24/24 [==============================] - 0s 2ms/step - loss: 0.3094 - accuracy: 0.8735\n",
            "Epoch 328/500\n",
            "24/24 [==============================] - 0s 2ms/step - loss: 0.3130 - accuracy: 0.8644\n",
            "Epoch 329/500\n",
            "24/24 [==============================] - 0s 2ms/step - loss: 0.3227 - accuracy: 0.8527\n",
            "Epoch 330/500\n",
            "24/24 [==============================] - 0s 2ms/step - loss: 0.3018 - accuracy: 0.8709\n",
            "Epoch 331/500\n",
            "24/24 [==============================] - 0s 2ms/step - loss: 0.2994 - accuracy: 0.8618\n",
            "Epoch 332/500\n",
            "24/24 [==============================] - 0s 2ms/step - loss: 0.3110 - accuracy: 0.8670\n",
            "Epoch 333/500\n",
            "24/24 [==============================] - 0s 2ms/step - loss: 0.2956 - accuracy: 0.8644\n",
            "Epoch 334/500\n",
            "24/24 [==============================] - 0s 2ms/step - loss: 0.2995 - accuracy: 0.8670\n",
            "Epoch 335/500\n",
            "24/24 [==============================] - 0s 1ms/step - loss: 0.3016 - accuracy: 0.8709\n",
            "Epoch 336/500\n",
            "24/24 [==============================] - 0s 2ms/step - loss: 0.3099 - accuracy: 0.8631\n",
            "Epoch 337/500\n",
            "24/24 [==============================] - 0s 2ms/step - loss: 0.2940 - accuracy: 0.8657\n",
            "Epoch 338/500\n",
            "24/24 [==============================] - 0s 2ms/step - loss: 0.2895 - accuracy: 0.8761\n",
            "Epoch 339/500\n",
            "24/24 [==============================] - 0s 1ms/step - loss: 0.2902 - accuracy: 0.8709\n",
            "Epoch 340/500\n",
            "24/24 [==============================] - 0s 2ms/step - loss: 0.2969 - accuracy: 0.8644\n",
            "Epoch 341/500\n",
            "24/24 [==============================] - 0s 2ms/step - loss: 0.2910 - accuracy: 0.8840\n",
            "Epoch 342/500\n",
            "24/24 [==============================] - 0s 1ms/step - loss: 0.2994 - accuracy: 0.8761\n",
            "Epoch 343/500\n",
            "24/24 [==============================] - 0s 2ms/step - loss: 0.2890 - accuracy: 0.8814\n",
            "Epoch 344/500\n",
            "24/24 [==============================] - 0s 2ms/step - loss: 0.2886 - accuracy: 0.8853\n",
            "Epoch 345/500\n",
            "24/24 [==============================] - 0s 2ms/step - loss: 0.2869 - accuracy: 0.8840\n",
            "Epoch 346/500\n",
            "24/24 [==============================] - 0s 2ms/step - loss: 0.2896 - accuracy: 0.8774\n",
            "Epoch 347/500\n",
            "24/24 [==============================] - 0s 2ms/step - loss: 0.2954 - accuracy: 0.8670\n",
            "Epoch 348/500\n",
            "24/24 [==============================] - 0s 2ms/step - loss: 0.2911 - accuracy: 0.8814\n",
            "Epoch 349/500\n",
            "24/24 [==============================] - 0s 2ms/step - loss: 0.3020 - accuracy: 0.8722\n",
            "Epoch 350/500\n",
            "24/24 [==============================] - 0s 2ms/step - loss: 0.2924 - accuracy: 0.8722\n",
            "Epoch 351/500\n",
            "24/24 [==============================] - 0s 2ms/step - loss: 0.3023 - accuracy: 0.8801\n",
            "Epoch 352/500\n",
            "24/24 [==============================] - 0s 2ms/step - loss: 0.3000 - accuracy: 0.8787\n",
            "Epoch 353/500\n",
            "24/24 [==============================] - 0s 2ms/step - loss: 0.2827 - accuracy: 0.8735\n",
            "Epoch 354/500\n",
            "24/24 [==============================] - 0s 2ms/step - loss: 0.2889 - accuracy: 0.8761\n",
            "Epoch 355/500\n",
            "24/24 [==============================] - 0s 1ms/step - loss: 0.2898 - accuracy: 0.8879\n",
            "Epoch 356/500\n",
            "24/24 [==============================] - 0s 2ms/step - loss: 0.2784 - accuracy: 0.8866\n",
            "Epoch 357/500\n",
            "24/24 [==============================] - 0s 2ms/step - loss: 0.2921 - accuracy: 0.8748\n",
            "Epoch 358/500\n",
            "24/24 [==============================] - 0s 2ms/step - loss: 0.2866 - accuracy: 0.8814\n",
            "Epoch 359/500\n",
            "24/24 [==============================] - 0s 2ms/step - loss: 0.2792 - accuracy: 0.8853\n",
            "Epoch 360/500\n",
            "24/24 [==============================] - 0s 2ms/step - loss: 0.2881 - accuracy: 0.8722\n",
            "Epoch 361/500\n",
            "24/24 [==============================] - 0s 2ms/step - loss: 0.2845 - accuracy: 0.8879\n",
            "Epoch 362/500\n",
            "24/24 [==============================] - 0s 2ms/step - loss: 0.2899 - accuracy: 0.8722\n",
            "Epoch 363/500\n",
            "24/24 [==============================] - 0s 2ms/step - loss: 0.2948 - accuracy: 0.8761\n",
            "Epoch 364/500\n",
            "24/24 [==============================] - 0s 2ms/step - loss: 0.2853 - accuracy: 0.8748\n",
            "Epoch 365/500\n",
            "24/24 [==============================] - 0s 2ms/step - loss: 0.2783 - accuracy: 0.8905\n",
            "Epoch 366/500\n",
            "24/24 [==============================] - 0s 2ms/step - loss: 0.2820 - accuracy: 0.8722\n",
            "Epoch 367/500\n",
            "24/24 [==============================] - 0s 2ms/step - loss: 0.2924 - accuracy: 0.8696\n",
            "Epoch 368/500\n",
            "24/24 [==============================] - 0s 2ms/step - loss: 0.2809 - accuracy: 0.8905\n",
            "Epoch 369/500\n",
            "24/24 [==============================] - 0s 3ms/step - loss: 0.3025 - accuracy: 0.8644\n",
            "Epoch 370/500\n",
            "24/24 [==============================] - 0s 2ms/step - loss: 0.3011 - accuracy: 0.8631\n",
            "Epoch 371/500\n",
            "24/24 [==============================] - 0s 2ms/step - loss: 0.2705 - accuracy: 0.8761\n",
            "Epoch 372/500\n",
            "24/24 [==============================] - 0s 3ms/step - loss: 0.2711 - accuracy: 0.8944\n",
            "Epoch 373/500\n",
            "24/24 [==============================] - 0s 2ms/step - loss: 0.2759 - accuracy: 0.8866\n",
            "Epoch 374/500\n",
            "24/24 [==============================] - 0s 3ms/step - loss: 0.2867 - accuracy: 0.8879\n",
            "Epoch 375/500\n",
            "24/24 [==============================] - 0s 2ms/step - loss: 0.2771 - accuracy: 0.8761\n",
            "Epoch 376/500\n",
            "24/24 [==============================] - 0s 2ms/step - loss: 0.2811 - accuracy: 0.8787\n",
            "Epoch 377/500\n",
            "24/24 [==============================] - 0s 2ms/step - loss: 0.2735 - accuracy: 0.8905\n",
            "Epoch 378/500\n",
            "24/24 [==============================] - 0s 2ms/step - loss: 0.2796 - accuracy: 0.8814\n",
            "Epoch 379/500\n",
            "24/24 [==============================] - 0s 2ms/step - loss: 0.2759 - accuracy: 0.8853\n",
            "Epoch 380/500\n",
            "24/24 [==============================] - 0s 2ms/step - loss: 0.2817 - accuracy: 0.8853\n",
            "Epoch 381/500\n",
            "24/24 [==============================] - 0s 1ms/step - loss: 0.2667 - accuracy: 0.8918\n",
            "Epoch 382/500\n",
            "24/24 [==============================] - 0s 2ms/step - loss: 0.2767 - accuracy: 0.8892\n",
            "Epoch 383/500\n",
            "24/24 [==============================] - 0s 2ms/step - loss: 0.2821 - accuracy: 0.8840\n",
            "Epoch 384/500\n",
            "24/24 [==============================] - 0s 2ms/step - loss: 0.2761 - accuracy: 0.8918\n",
            "Epoch 385/500\n",
            "24/24 [==============================] - 0s 2ms/step - loss: 0.2764 - accuracy: 0.8866\n",
            "Epoch 386/500\n",
            "24/24 [==============================] - 0s 2ms/step - loss: 0.2751 - accuracy: 0.8814\n",
            "Epoch 387/500\n",
            "24/24 [==============================] - 0s 2ms/step - loss: 0.2786 - accuracy: 0.8853\n",
            "Epoch 388/500\n",
            "24/24 [==============================] - 0s 2ms/step - loss: 0.2746 - accuracy: 0.8814\n",
            "Epoch 389/500\n",
            "24/24 [==============================] - 0s 2ms/step - loss: 0.2700 - accuracy: 0.8814\n",
            "Epoch 390/500\n",
            "24/24 [==============================] - 0s 2ms/step - loss: 0.2797 - accuracy: 0.8905\n",
            "Epoch 391/500\n",
            "24/24 [==============================] - 0s 2ms/step - loss: 0.2938 - accuracy: 0.8696\n",
            "Epoch 392/500\n",
            "24/24 [==============================] - 0s 2ms/step - loss: 0.2775 - accuracy: 0.8774\n",
            "Epoch 393/500\n",
            "24/24 [==============================] - 0s 3ms/step - loss: 0.2736 - accuracy: 0.8814\n",
            "Epoch 394/500\n",
            "24/24 [==============================] - 0s 2ms/step - loss: 0.2809 - accuracy: 0.8905\n",
            "Epoch 395/500\n",
            "24/24 [==============================] - 0s 2ms/step - loss: 0.2645 - accuracy: 0.8866\n",
            "Epoch 396/500\n",
            "24/24 [==============================] - 0s 2ms/step - loss: 0.2624 - accuracy: 0.8944\n",
            "Epoch 397/500\n",
            "24/24 [==============================] - 0s 2ms/step - loss: 0.2615 - accuracy: 0.8957\n",
            "Epoch 398/500\n",
            "24/24 [==============================] - 0s 2ms/step - loss: 0.2675 - accuracy: 0.8905\n",
            "Epoch 399/500\n",
            "24/24 [==============================] - 0s 2ms/step - loss: 0.2642 - accuracy: 0.8827\n",
            "Epoch 400/500\n",
            "24/24 [==============================] - 0s 2ms/step - loss: 0.2598 - accuracy: 0.8931\n",
            "Epoch 401/500\n",
            "24/24 [==============================] - 0s 2ms/step - loss: 0.2696 - accuracy: 0.8853\n",
            "Epoch 402/500\n",
            "24/24 [==============================] - 0s 2ms/step - loss: 0.2680 - accuracy: 0.8892\n",
            "Epoch 403/500\n",
            "24/24 [==============================] - 0s 2ms/step - loss: 0.2604 - accuracy: 0.8983\n",
            "Epoch 404/500\n",
            "24/24 [==============================] - 0s 3ms/step - loss: 0.2676 - accuracy: 0.8957\n",
            "Epoch 405/500\n",
            "24/24 [==============================] - 0s 2ms/step - loss: 0.2921 - accuracy: 0.8787\n",
            "Epoch 406/500\n",
            "24/24 [==============================] - 0s 2ms/step - loss: 0.3021 - accuracy: 0.8605\n",
            "Epoch 407/500\n",
            "24/24 [==============================] - 0s 2ms/step - loss: 0.3029 - accuracy: 0.8735\n",
            "Epoch 408/500\n",
            "24/24 [==============================] - 0s 2ms/step - loss: 0.2659 - accuracy: 0.8892\n",
            "Epoch 409/500\n",
            "24/24 [==============================] - 0s 2ms/step - loss: 0.2721 - accuracy: 0.8866\n",
            "Epoch 410/500\n",
            "24/24 [==============================] - 0s 2ms/step - loss: 0.2700 - accuracy: 0.8892\n",
            "Epoch 411/500\n",
            "24/24 [==============================] - 0s 2ms/step - loss: 0.2680 - accuracy: 0.8879\n",
            "Epoch 412/500\n",
            "24/24 [==============================] - 0s 2ms/step - loss: 0.2742 - accuracy: 0.8931\n",
            "Epoch 413/500\n",
            "24/24 [==============================] - 0s 2ms/step - loss: 0.2993 - accuracy: 0.8670\n",
            "Epoch 414/500\n",
            "24/24 [==============================] - 0s 2ms/step - loss: 0.2809 - accuracy: 0.8866\n",
            "Epoch 415/500\n",
            "24/24 [==============================] - 0s 2ms/step - loss: 0.2849 - accuracy: 0.8866\n",
            "Epoch 416/500\n",
            "24/24 [==============================] - 0s 2ms/step - loss: 0.2670 - accuracy: 0.8853\n",
            "Epoch 417/500\n",
            "24/24 [==============================] - 0s 3ms/step - loss: 0.2608 - accuracy: 0.8931\n",
            "Epoch 418/500\n",
            "24/24 [==============================] - 0s 2ms/step - loss: 0.2552 - accuracy: 0.8957\n",
            "Epoch 419/500\n",
            "24/24 [==============================] - 0s 2ms/step - loss: 0.2567 - accuracy: 0.8905\n",
            "Epoch 420/500\n",
            "24/24 [==============================] - 0s 2ms/step - loss: 0.2525 - accuracy: 0.8892\n",
            "Epoch 421/500\n",
            "24/24 [==============================] - 0s 3ms/step - loss: 0.2628 - accuracy: 0.8879\n",
            "Epoch 422/500\n",
            "24/24 [==============================] - 0s 2ms/step - loss: 0.2637 - accuracy: 0.8905\n",
            "Epoch 423/500\n",
            "24/24 [==============================] - 0s 2ms/step - loss: 0.2833 - accuracy: 0.8709\n",
            "Epoch 424/500\n",
            "24/24 [==============================] - 0s 2ms/step - loss: 0.2545 - accuracy: 0.8918\n",
            "Epoch 425/500\n",
            "24/24 [==============================] - 0s 2ms/step - loss: 0.2580 - accuracy: 0.8892\n",
            "Epoch 426/500\n",
            "24/24 [==============================] - 0s 2ms/step - loss: 0.2500 - accuracy: 0.8983\n",
            "Epoch 427/500\n",
            "24/24 [==============================] - 0s 2ms/step - loss: 0.2473 - accuracy: 0.8983\n",
            "Epoch 428/500\n",
            "24/24 [==============================] - 0s 2ms/step - loss: 0.2647 - accuracy: 0.8840\n",
            "Epoch 429/500\n",
            "24/24 [==============================] - 0s 2ms/step - loss: 0.2568 - accuracy: 0.8957\n",
            "Epoch 430/500\n",
            "24/24 [==============================] - 0s 2ms/step - loss: 0.2574 - accuracy: 0.9035\n",
            "Epoch 431/500\n",
            "24/24 [==============================] - 0s 2ms/step - loss: 0.2565 - accuracy: 0.8996\n",
            "Epoch 432/500\n",
            "24/24 [==============================] - 0s 2ms/step - loss: 0.2695 - accuracy: 0.8774\n",
            "Epoch 433/500\n",
            "24/24 [==============================] - 0s 2ms/step - loss: 0.2759 - accuracy: 0.8866\n",
            "Epoch 434/500\n",
            "24/24 [==============================] - 0s 2ms/step - loss: 0.2741 - accuracy: 0.8879\n",
            "Epoch 435/500\n",
            "24/24 [==============================] - 0s 2ms/step - loss: 0.2968 - accuracy: 0.8631\n",
            "Epoch 436/500\n",
            "24/24 [==============================] - 0s 2ms/step - loss: 0.2659 - accuracy: 0.8970\n",
            "Epoch 437/500\n",
            "24/24 [==============================] - 0s 2ms/step - loss: 0.2587 - accuracy: 0.8944\n",
            "Epoch 438/500\n",
            "24/24 [==============================] - 0s 1ms/step - loss: 0.2545 - accuracy: 0.8814\n",
            "Epoch 439/500\n",
            "24/24 [==============================] - 0s 2ms/step - loss: 0.2834 - accuracy: 0.8801\n",
            "Epoch 440/500\n",
            "24/24 [==============================] - 0s 2ms/step - loss: 0.2644 - accuracy: 0.8905\n",
            "Epoch 441/500\n",
            "24/24 [==============================] - 0s 2ms/step - loss: 0.2530 - accuracy: 0.8957\n",
            "Epoch 442/500\n",
            "24/24 [==============================] - 0s 2ms/step - loss: 0.2512 - accuracy: 0.8931\n",
            "Epoch 443/500\n",
            "24/24 [==============================] - 0s 2ms/step - loss: 0.2516 - accuracy: 0.9035\n",
            "Epoch 444/500\n",
            "24/24 [==============================] - 0s 2ms/step - loss: 0.2492 - accuracy: 0.9035\n",
            "Epoch 445/500\n",
            "24/24 [==============================] - 0s 2ms/step - loss: 0.2579 - accuracy: 0.8892\n",
            "Epoch 446/500\n",
            "24/24 [==============================] - 0s 2ms/step - loss: 0.2539 - accuracy: 0.8957\n",
            "Epoch 447/500\n",
            "24/24 [==============================] - 0s 2ms/step - loss: 0.2594 - accuracy: 0.8931\n",
            "Epoch 448/500\n",
            "24/24 [==============================] - 0s 2ms/step - loss: 0.2478 - accuracy: 0.8983\n",
            "Epoch 449/500\n",
            "24/24 [==============================] - 0s 2ms/step - loss: 0.2445 - accuracy: 0.9048\n",
            "Epoch 450/500\n",
            "24/24 [==============================] - 0s 2ms/step - loss: 0.2509 - accuracy: 0.9061\n",
            "Epoch 451/500\n",
            "24/24 [==============================] - 0s 2ms/step - loss: 0.2541 - accuracy: 0.8944\n",
            "Epoch 452/500\n",
            "24/24 [==============================] - 0s 2ms/step - loss: 0.2522 - accuracy: 0.8944\n",
            "Epoch 453/500\n",
            "24/24 [==============================] - 0s 2ms/step - loss: 0.2465 - accuracy: 0.9035\n",
            "Epoch 454/500\n",
            "24/24 [==============================] - 0s 2ms/step - loss: 0.2400 - accuracy: 0.9087\n",
            "Epoch 455/500\n",
            "24/24 [==============================] - 0s 2ms/step - loss: 0.2614 - accuracy: 0.8827\n",
            "Epoch 456/500\n",
            "24/24 [==============================] - 0s 2ms/step - loss: 0.2456 - accuracy: 0.8983\n",
            "Epoch 457/500\n",
            "24/24 [==============================] - 0s 2ms/step - loss: 0.2437 - accuracy: 0.9074\n",
            "Epoch 458/500\n",
            "24/24 [==============================] - 0s 3ms/step - loss: 0.2506 - accuracy: 0.8931\n",
            "Epoch 459/500\n",
            "24/24 [==============================] - 0s 2ms/step - loss: 0.2442 - accuracy: 0.8957\n",
            "Epoch 460/500\n",
            "24/24 [==============================] - 0s 2ms/step - loss: 0.2527 - accuracy: 0.8983\n",
            "Epoch 461/500\n",
            "24/24 [==============================] - 0s 2ms/step - loss: 0.2388 - accuracy: 0.9074\n",
            "Epoch 462/500\n",
            "24/24 [==============================] - 0s 2ms/step - loss: 0.2520 - accuracy: 0.9061\n",
            "Epoch 463/500\n",
            "24/24 [==============================] - 0s 2ms/step - loss: 0.2620 - accuracy: 0.8970\n",
            "Epoch 464/500\n",
            "24/24 [==============================] - 0s 2ms/step - loss: 0.2395 - accuracy: 0.9074\n",
            "Epoch 465/500\n",
            "24/24 [==============================] - 0s 2ms/step - loss: 0.2585 - accuracy: 0.8918\n",
            "Epoch 466/500\n",
            "24/24 [==============================] - 0s 2ms/step - loss: 0.2557 - accuracy: 0.8970\n",
            "Epoch 467/500\n",
            "24/24 [==============================] - 0s 2ms/step - loss: 0.2591 - accuracy: 0.8957\n",
            "Epoch 468/500\n",
            "24/24 [==============================] - 0s 2ms/step - loss: 0.2526 - accuracy: 0.9009\n",
            "Epoch 469/500\n",
            "24/24 [==============================] - 0s 2ms/step - loss: 0.2502 - accuracy: 0.9009\n",
            "Epoch 470/500\n",
            "24/24 [==============================] - 0s 2ms/step - loss: 0.2355 - accuracy: 0.9022\n",
            "Epoch 471/500\n",
            "24/24 [==============================] - 0s 2ms/step - loss: 0.2445 - accuracy: 0.9022\n",
            "Epoch 472/500\n",
            "24/24 [==============================] - 0s 2ms/step - loss: 0.2475 - accuracy: 0.9035\n",
            "Epoch 473/500\n",
            "24/24 [==============================] - 0s 2ms/step - loss: 0.2384 - accuracy: 0.9022\n",
            "Epoch 474/500\n",
            "24/24 [==============================] - 0s 2ms/step - loss: 0.2454 - accuracy: 0.8970\n",
            "Epoch 475/500\n",
            "24/24 [==============================] - 0s 3ms/step - loss: 0.2370 - accuracy: 0.9022\n",
            "Epoch 476/500\n",
            "24/24 [==============================] - 0s 3ms/step - loss: 0.2432 - accuracy: 0.9061\n",
            "Epoch 477/500\n",
            "24/24 [==============================] - 0s 2ms/step - loss: 0.2531 - accuracy: 0.8957\n",
            "Epoch 478/500\n",
            "24/24 [==============================] - 0s 2ms/step - loss: 0.2326 - accuracy: 0.8996\n",
            "Epoch 479/500\n",
            "24/24 [==============================] - 0s 2ms/step - loss: 0.2337 - accuracy: 0.9009\n",
            "Epoch 480/500\n",
            "24/24 [==============================] - 0s 2ms/step - loss: 0.2544 - accuracy: 0.8918\n",
            "Epoch 481/500\n",
            "24/24 [==============================] - 0s 2ms/step - loss: 0.2344 - accuracy: 0.9048\n",
            "Epoch 482/500\n",
            "24/24 [==============================] - 0s 2ms/step - loss: 0.2511 - accuracy: 0.8944\n",
            "Epoch 483/500\n",
            "24/24 [==============================] - 0s 2ms/step - loss: 0.2525 - accuracy: 0.8970\n",
            "Epoch 484/500\n",
            "24/24 [==============================] - 0s 2ms/step - loss: 0.2529 - accuracy: 0.8879\n",
            "Epoch 485/500\n",
            "24/24 [==============================] - 0s 2ms/step - loss: 0.2435 - accuracy: 0.8918\n",
            "Epoch 486/500\n",
            "24/24 [==============================] - 0s 2ms/step - loss: 0.2434 - accuracy: 0.8866\n",
            "Epoch 487/500\n",
            "24/24 [==============================] - 0s 2ms/step - loss: 0.2473 - accuracy: 0.8944\n",
            "Epoch 488/500\n",
            "24/24 [==============================] - 0s 2ms/step - loss: 0.2379 - accuracy: 0.9009\n",
            "Epoch 489/500\n",
            "24/24 [==============================] - 0s 2ms/step - loss: 0.2635 - accuracy: 0.8879\n",
            "Epoch 490/500\n",
            "24/24 [==============================] - 0s 2ms/step - loss: 0.2500 - accuracy: 0.8944\n",
            "Epoch 491/500\n",
            "24/24 [==============================] - 0s 2ms/step - loss: 0.2442 - accuracy: 0.8996\n",
            "Epoch 492/500\n",
            "24/24 [==============================] - 0s 2ms/step - loss: 0.2251 - accuracy: 0.9113\n",
            "Epoch 493/500\n",
            "24/24 [==============================] - 0s 2ms/step - loss: 0.2340 - accuracy: 0.9087\n",
            "Epoch 494/500\n",
            "24/24 [==============================] - 0s 3ms/step - loss: 0.2251 - accuracy: 0.9126\n",
            "Epoch 495/500\n",
            "24/24 [==============================] - 0s 2ms/step - loss: 0.2291 - accuracy: 0.9009\n",
            "Epoch 496/500\n",
            "24/24 [==============================] - 0s 2ms/step - loss: 0.2440 - accuracy: 0.8983\n",
            "Epoch 497/500\n",
            "24/24 [==============================] - 0s 2ms/step - loss: 0.2461 - accuracy: 0.8944\n",
            "Epoch 498/500\n",
            "24/24 [==============================] - 0s 3ms/step - loss: 0.2296 - accuracy: 0.9061\n",
            "Epoch 499/500\n",
            "24/24 [==============================] - 0s 2ms/step - loss: 0.2258 - accuracy: 0.9126\n",
            "Epoch 500/500\n",
            "24/24 [==============================] - 0s 2ms/step - loss: 0.2293 - accuracy: 0.9022\n"
          ],
          "name": "stdout"
        }
      ]
    },
    {
      "cell_type": "code",
      "metadata": {
        "id": "cnYI3o_gUs2z"
      },
      "source": [
        "\n",
        "result=output.history"
      ],
      "execution_count": null,
      "outputs": []
    },
    {
      "cell_type": "code",
      "metadata": {
        "id": "UQVq0KqJU0Yy",
        "outputId": "8508a07b-70ac-446e-fae9-4e5a4382e4a6",
        "colab": {
          "base_uri": "https://localhost:8080/",
          "height": 34
        }
      },
      "source": [
        "result.keys()"
      ],
      "execution_count": null,
      "outputs": [
        {
          "output_type": "execute_result",
          "data": {
            "text/plain": [
              "dict_keys(['loss', 'accuracy'])"
            ]
          },
          "metadata": {
            "tags": []
          },
          "execution_count": 14
        }
      ]
    },
    {
      "cell_type": "code",
      "metadata": {
        "id": "JD9QYFnNU20I"
      },
      "source": [
        "epochs=np.arange(500)"
      ],
      "execution_count": null,
      "outputs": []
    },
    {
      "cell_type": "markdown",
      "metadata": {
        "id": "_DsKCtdAPMAs"
      },
      "source": [
        "accuracy output of my model"
      ]
    },
    {
      "cell_type": "code",
      "metadata": {
        "id": "8V5IjqfCU5Vo",
        "outputId": "64523e12-a28a-48a8-b60a-c8889843098a",
        "colab": {
          "base_uri": "https://localhost:8080/",
          "height": 264
        }
      },
      "source": [
        "plt.plot(epochs, result['accuracy'])\n",
        "plt.show()"
      ],
      "execution_count": null,
      "outputs": [
        {
          "output_type": "display_data",
          "data": {
            "image/png": "[encoded data removed]",
            "text/plain": [
              "<Figure size 432x288 with 1 Axes>"
            ]
          },
          "metadata": {
            "tags": [],
            "needs_background": "light"
          }
        }
      ]
    },
    {
      "cell_type": "markdown",
      "metadata": {
        "id": "uvYnh-bkPPsD"
      },
      "source": [
        "## Fuzzy logic approach"
      ]
    },
    {
      "cell_type": "code",
      "metadata": {
        "id": "-jW46xjMIjvB",
        "outputId": "d0381f37-5709-4841-9534-1cd70acdb9d5",
        "colab": {
          "base_uri": "https://localhost:8080/",
          "height": 265
        }
      },
      "source": [
        "!pip install Scikit-fuzzy\n",
        "import numpy as np\n",
        "import skfuzzy as fuzz\n",
        "from skfuzzy import control as ctrl"
      ],
      "execution_count": null,
      "outputs": [
        {
          "output_type": "stream",
          "text": [
            "Collecting Scikit-fuzzy\n",
            "\u001b[?25l  Downloading https://files.pythonhosted.org/packages/6c/f0/5eb5dbe0fd8dfe7d4651a8f4e591a196623a22b9e5339101e559695b4f6c/scikit-fuzzy-0.4.2.tar.gz (993kB)\n",
            "\u001b[K     |████████████████████████████████| 1.0MB 2.7MB/s \n",
            "\u001b[?25hRequirement already satisfied: numpy>=1.6.0 in /usr/local/lib/python3.6/dist-packages (from Scikit-fuzzy) (1.18.5)\n",
            "Requirement already satisfied: scipy>=0.9.0 in /usr/local/lib/python3.6/dist-packages (from Scikit-fuzzy) (1.4.1)\n",
            "Requirement already satisfied: networkx>=1.9.0 in /usr/local/lib/python3.6/dist-packages (from Scikit-fuzzy) (2.5)\n",
            "Requirement already satisfied: decorator>=4.3.0 in /usr/local/lib/python3.6/dist-packages (from networkx>=1.9.0->Scikit-fuzzy) (4.4.2)\n",
            "Building wheels for collected packages: Scikit-fuzzy\n",
            "  Building wheel for Scikit-fuzzy (setup.py) ... \u001b[?25l\u001b[?25hdone\n",
            "  Created wheel for Scikit-fuzzy: filename=scikit_fuzzy-0.4.2-cp36-none-any.whl size=894070 sha256=44becaeb429db3b377c72dd0885f4e9012470c1f55368ce10147c71208ab7ff1\n",
            "  Stored in directory: /root/.cache/pip/wheels/b9/4e/77/da79b16f64ef1738d95486e2731eea09d73e90a72465096600\n",
            "Successfully built Scikit-fuzzy\n",
            "Installing collected packages: Scikit-fuzzy\n",
            "Successfully installed Scikit-fuzzy-0.4.2\n"
          ],
          "name": "stdout"
        }
      ]
    },
    {
      "cell_type": "code",
      "metadata": {
        "id": "qqUTedFOJJHb"
      },
      "source": [
        "\n",
        "glucose=ctrl.Antecedent(np.arange(0,200,1), 'glucose')\n",
        "bp=ctrl.Antecedent(np.arange(0,122,1), 'bp')\n",
        "age=ctrl.Antecedent(np.arange(0,101,1), 'age')\n",
        "dindex=ctrl.Antecedent(np.arange(0,101,1), 'dindex')\n",
        "insulin=ctrl.Antecedent(np.arange(0,901,1),'insulin')\n",
        "bmi=ctrl.Antecedent(np.arange(0,65.0,0.1),'bmi')\n",
        "\n",
        "chances=ctrl.Consequent(np.arange(0,101, 1), 'chances')"
      ],
      "execution_count": null,
      "outputs": []
    },
    {
      "cell_type": "code",
      "metadata": {
        "id": "IzEXuZlPJP3p"
      },
      "source": [
        "chances['low']=fuzz.trimf(chances.universe,[0,10,20])\n",
        "chances['int']=fuzz.trimf(chances.universe, [20,30,50])\n",
        "chances['high']=fuzz.trimf(chances.universe, [40, 100, 100])\n"
      ],
      "execution_count": null,
      "outputs": []
    },
    {
      "cell_type": "code",
      "metadata": {
        "id": "g0SSCJf0JUcf"
      },
      "source": [
        "age['low']=fuzz.trapmf(age.universe,[0,0,30,35])\n",
        "age['mid']=fuzz.trapmf(age.universe,[25,35,45,50])\n",
        "age['high']=fuzz.trapmf(age.universe,[40,50,55,70])\n",
        "\n",
        "\n"
      ],
      "execution_count": null,
      "outputs": []
    },
    {
      "cell_type": "code",
      "metadata": {
        "id": "crXzWXj7JYD6",
        "outputId": "af0166fb-7cb5-4cfe-de80-339b8aaa904d",
        "colab": {
          "base_uri": "https://localhost:8080/",
          "height": 281
        }
      },
      "source": [
        "age.view()"
      ],
      "execution_count": null,
      "outputs": [
        {
          "output_type": "display_data",
          "data": {
            "image/png": "[encoded data removed]",
            "text/plain": [
              "<Figure size 432x288 with 1 Axes>"
            ]
          },
          "metadata": {
            "tags": [],
            "needs_background": "light"
          }
        }
      ]
    },
    {
      "cell_type": "code",
      "metadata": {
        "id": "bzFhO4hoJgV1"
      },
      "source": [
        "insulin['low']=fuzz.trapmf(insulin.universe,[0,40,90,115])\n",
        "insulin['mid']=fuzz.trapmf(insulin.universe,[75,110,225,300])\n",
        "insulin['high']=fuzz.trapmf(insulin.universe,[200,250,450,900])"
      ],
      "execution_count": null,
      "outputs": []
    },
    {
      "cell_type": "code",
      "metadata": {
        "id": "Jc94J3TQJmtF",
        "outputId": "ae8581f1-3d63-44be-bcd7-ab7f0f4414aa",
        "colab": {
          "base_uri": "https://localhost:8080/",
          "height": 281
        }
      },
      "source": [
        "insulin.view()"
      ],
      "execution_count": null,
      "outputs": [
        {
          "output_type": "display_data",
          "data": {
            "image/png": "[encoded data removed]",
            "text/plain": [
              "<Figure size 432x288 with 1 Axes>"
            ]
          },
          "metadata": {
            "tags": [],
            "needs_background": "light"
          }
        }
      ]
    },
    {
      "cell_type": "code",
      "metadata": {
        "id": "gf-S3l0EJqrh"
      },
      "source": [
        "bmi['low']=fuzz.trapmf(bmi.universe,[0,25.0,30.0,32.5])\n",
        "bmi['mid']=fuzz.trapmf(bmi.universe,[27.5,31.0,35.0,40.0])\n",
        "bmi['high']=fuzz.trapmf(bmi.universe,[37.5,41.0,49.0,68.0])\n",
        "\n",
        "\n"
      ],
      "execution_count": null,
      "outputs": []
    },
    {
      "cell_type": "code",
      "metadata": {
        "id": "rBArdYDGJvBO",
        "outputId": "55ea45bf-fb19-4da0-a409-c2b1356de01f",
        "colab": {
          "base_uri": "https://localhost:8080/",
          "height": 281
        }
      },
      "source": [
        "bmi.view()"
      ],
      "execution_count": null,
      "outputs": [
        {
          "output_type": "display_data",
          "data": {
            "image/png": "[encoded data removed]",
            "text/plain": [
              "<Figure size 432x288 with 1 Axes>"
            ]
          },
          "metadata": {
            "tags": [],
            "needs_background": "light"
          }
        }
      ]
    },
    {
      "cell_type": "code",
      "metadata": {
        "id": "pLqsFwH3J1Uo"
      },
      "source": [
        "dindex['no']=fuzz.trapmf(dindex.universe,[0,30,45,60])\n",
        "dindex['yes']=fuzz.trapmf(dindex.universe,[45,60,75,100])"
      ],
      "execution_count": null,
      "outputs": []
    },
    {
      "cell_type": "code",
      "metadata": {
        "id": "Frfor0HmJ3rC",
        "outputId": "ea895497-e98f-4745-dfe9-ed7d45d40a36",
        "colab": {
          "base_uri": "https://localhost:8080/",
          "height": 281
        }
      },
      "source": [
        "dindex.view()"
      ],
      "execution_count": null,
      "outputs": [
        {
          "output_type": "display_data",
          "data": {
            "image/png": "[encoded data removed]",
            "text/plain": [
              "<Figure size 432x288 with 1 Axes>"
            ]
          },
          "metadata": {
            "tags": [],
            "needs_background": "light"
          }
        }
      ]
    },
    {
      "cell_type": "code",
      "metadata": {
        "id": "PnSpnbt5J79u"
      },
      "source": [
        "bp['low']=fuzz.trapmf(bp.universe,[0,40,70,90])\n",
        "bp['high']=fuzz.trapmf(bp.universe,[70,100,120,120])"
      ],
      "execution_count": null,
      "outputs": []
    },
    {
      "cell_type": "code",
      "metadata": {
        "id": "N30VDyDLKAap",
        "outputId": "b73fc41b-4aa4-4220-d706-0c345ccbd519",
        "colab": {
          "base_uri": "https://localhost:8080/",
          "height": 281
        }
      },
      "source": [
        "bp.view()"
      ],
      "execution_count": null,
      "outputs": [
        {
          "output_type": "display_data",
          "data": {
            "image/png": "[encoded data removed]",
            "text/plain": [
              "<Figure size 432x288 with 1 Axes>"
            ]
          },
          "metadata": {
            "tags": [],
            "needs_background": "light"
          }
        }
      ]
    },
    {
      "cell_type": "code",
      "metadata": {
        "id": "xu07j_shKHNj"
      },
      "source": [
        "glucose['low']=fuzz.trapmf(glucose.universe,[0,40,80,110])\n",
        "glucose['inter']=fuzz.trapmf(glucose.universe,[80,100,120,140])\n",
        "glucose['high']=fuzz.trapmf(glucose.universe,[110,140,160,200])"
      ],
      "execution_count": null,
      "outputs": []
    },
    {
      "cell_type": "code",
      "metadata": {
        "id": "x6fcuKjCKIDf",
        "outputId": "74e14789-c6fe-434c-9e76-9fcede2f7c6b",
        "colab": {
          "base_uri": "https://localhost:8080/",
          "height": 281
        }
      },
      "source": [
        "glucose.view()"
      ],
      "execution_count": null,
      "outputs": [
        {
          "output_type": "display_data",
          "data": {
            "image/png": "[encoded data removed]",
            "text/plain": [
              "<Figure size 432x288 with 1 Axes>"
            ]
          },
          "metadata": {
            "tags": [],
            "needs_background": "light"
          }
        }
      ]
    },
    {
      "cell_type": "code",
      "metadata": {
        "id": "-SixV2wXKPMF"
      },
      "source": [
        "rule1=ctrl.Rule(glucose['low']| bp['low']| dindex['no']|age['low']|bmi['low']|insulin['low'], chances['low'])\n",
        "rule2=ctrl.Rule(glucose['low']| bp['low']| dindex['no']|age['low']|bmi['low']|insulin['mid'], chances['low'])\n",
        "rule3=ctrl.Rule(glucose['low']| bp['low']| dindex['no']|age['low']|bmi['low']|insulin['high'], chances['low'])\n",
        "rule4=ctrl.Rule(glucose['low']| bp['low']| dindex['no']|age['low']|bmi['mid']|insulin['low'], chances['low'])\n",
        "rule5=ctrl.Rule(glucose['low']| bp['low']| dindex['no']|age['low']|bmi['mid']|insulin['mid'], chances['low'])\n",
        "rule6=ctrl.Rule(glucose['low']| bp['low']| dindex['no']|age['low']|bmi['mid']|insulin['high'], chances['low'])\n",
        "rule7=ctrl.Rule(glucose['low']| bp['low']| dindex['no']|age['low']|bmi['high']|insulin['low'], chances['low'])\n",
        "rule8=ctrl.Rule(glucose['low']| bp['low']| dindex['no']|age['low']|bmi['high']|insulin['mid'], chances['low'])\n",
        "rule9=ctrl.Rule(glucose['low']| bp['low']| dindex['no']|age['low']|bmi['high']|insulin['high'], chances['int'])\n",
        "\n",
        "\n",
        "rule10=ctrl.Rule(glucose['low']| bp['low']| dindex['no']|age['mid']|bmi['low']|insulin['low'], chances['low'])\n",
        "rule11=ctrl.Rule(glucose['low']| bp['low']| dindex['no']|age['mid']|bmi['low']|insulin['mid'], chances['low'])\n",
        "rule12=ctrl.Rule(glucose['low']| bp['low']| dindex['no']|age['mid']|bmi['low']|insulin['high'], chances['int'])\n",
        "rule13=ctrl.Rule(glucose['low']| bp['low']| dindex['no']|age['mid']|bmi['mid']|insulin['low'], chances['low'])\n",
        "rule14=ctrl.Rule(glucose['low']| bp['low']| dindex['no']|age['mid']|bmi['mid']|insulin['mid'], chances['int'])\n",
        "rule15=ctrl.Rule(glucose['low']| bp['low']| dindex['no']|age['mid']|bmi['mid']|insulin['high'], chances['low'])\n",
        "rule16=ctrl.Rule(glucose['low']| bp['low']| dindex['no']|age['mid']|bmi['high']|insulin['low'], chances['low'])\n",
        "rule17=ctrl.Rule(glucose['low']| bp['low']| dindex['no']|age['mid']|bmi['high']|insulin['mid'], chances['low'])\n",
        "rule18=ctrl.Rule(glucose['low']| bp['low']| dindex['no']|age['mid']|bmi['high']|insulin['high'], chances['int'])\n",
        "\n",
        "rule19=ctrl.Rule(glucose['low']| bp['low']| dindex['no']|age['high']|bmi['low']|insulin['low'], chances['low'])\n",
        "rule20=ctrl.Rule(glucose['low']| bp['low']| dindex['no']|age['high']|bmi['low']|insulin['mid'], chances['int'])\n",
        "rule21=ctrl.Rule(glucose['low']| bp['low']| dindex['no']|age['high']|bmi['low']|insulin['high'], chances['high'])\n",
        "rule22=ctrl.Rule(glucose['low']| bp['low']| dindex['no']|age['high']|bmi['mid']|insulin['low'], chances['int'])\n",
        "rule23=ctrl.Rule(glucose['low']| bp['low']| dindex['no']|age['high']|bmi['mid']|insulin['mid'], chances['int'])\n",
        "rule24=ctrl.Rule(glucose['low']| bp['low']| dindex['no']|age['high']|bmi['mid']|insulin['high'], chances['high'])\n",
        "rule25=ctrl.Rule(glucose['low']| bp['low']| dindex['no']|age['high']|bmi['high']|insulin['low'], chances['int'])\n",
        "rule26=ctrl.Rule(glucose['low']| bp['low']| dindex['no']|age['high']|bmi['high']|insulin['mid'], chances['high'])\n",
        "rule27=ctrl.Rule(glucose['low']| bp['low']| dindex['no']|age['high']|bmi['high']|insulin['high'], chances['high'])\n",
        "\n",
        "\n",
        "\n",
        "rule28=ctrl.Rule(glucose['low']| bp['low']| dindex['yes']|age['low']|bmi['low']|insulin['low'], chances['int'])\n",
        "rule29=ctrl.Rule(glucose['low']| bp['low']| dindex['yes']|age['low']|bmi['low']|insulin['mid'], chances['int'])\n",
        "rule30=ctrl.Rule(glucose['low']| bp['low']| dindex['yes']|age['low']|bmi['low']|insulin['high'], chances['int'])\n",
        "rule31=ctrl.Rule(glucose['low']| bp['low']| dindex['yes']|age['low']|bmi['mid']|insulin['low'], chances['int'])\n",
        "rule32=ctrl.Rule(glucose['low']| bp['low']| dindex['yes']|age['low']|bmi['mid']|insulin['mid'], chances['int'])\n",
        "rule33=ctrl.Rule(glucose['low']| bp['low']| dindex['yes']|age['low']|bmi['mid']|insulin['high'], chances['int'])\n",
        "rule34=ctrl.Rule(glucose['low']| bp['low']| dindex['yes']|age['low']|bmi['high']|insulin['low'], chances['int'])\n",
        "rule35=ctrl.Rule(glucose['low']| bp['low']| dindex['yes']|age['low']|bmi['high']|insulin['mid'], chances['int'])\n",
        "rule36=ctrl.Rule(glucose['low']| bp['low']| dindex['yes']|age['low']|bmi['high']|insulin['high'], chances['high'])\n",
        "rule37=ctrl.Rule(glucose['low']| bp['low']| dindex['yes']|age['mid']|bmi['low']|insulin['low'], chances['int'])\n",
        "rule38=ctrl.Rule(glucose['low']| bp['low']| dindex['yes']|age['mid']|bmi['low']|insulin['mid'], chances['int'])\n",
        "rule39=ctrl.Rule(glucose['low']| bp['low']| dindex['yes']|age['mid']|bmi['low']|insulin['high'], chances['high'])\n",
        "rule40=ctrl.Rule(glucose['low']| bp['low']| dindex['yes']|age['mid']|bmi['mid']|insulin['low'], chances['int'])\n",
        "rule41=ctrl.Rule(glucose['low']| bp['low']| dindex['yes']|age['mid']|bmi['mid']|insulin['mid'], chances['high'])\n",
        "rule42=ctrl.Rule(glucose['low']| bp['low']| dindex['yes']|age['mid']|bmi['mid']|insulin['high'], chances['int'])\n",
        "rule43=ctrl.Rule(glucose['low']| bp['low']| dindex['yes']|age['mid']|bmi['high']|insulin['low'], chances['int'])\n",
        "rule44=ctrl.Rule(glucose['low']| bp['low']| dindex['yes']|age['mid']|bmi['high']|insulin['mid'], chances['int'])\n",
        "rule45=ctrl.Rule(glucose['low']| bp['low']| dindex['yes']|age['mid']|bmi['high']|insulin['high'], chances['high'])\n",
        "rule46=ctrl.Rule(glucose['low']| bp['low']| dindex['yes']|age['high']|bmi['low']|insulin['low'], chances['int'])\n",
        "rule47=ctrl.Rule(glucose['low']| bp['low']| dindex['yes']|age['high']|bmi['low']|insulin['mid'], chances['high'])\n",
        "rule48=ctrl.Rule(glucose['low']| bp['low']| dindex['yes']|age['high']|bmi['low']|insulin['high'], chances['high'])\n",
        "rule49=ctrl.Rule(glucose['low']| bp['low']| dindex['yes']|age['high']|bmi['mid']|insulin['low'], chances['high'])\n",
        "rule50=ctrl.Rule(glucose['low']| bp['low']| dindex['yes']|age['high']|bmi['mid']|insulin['mid'], chances['high'])\n",
        "rule51=ctrl.Rule(glucose['low']| bp['low']| dindex['yes']|age['high']|bmi['mid']|insulin['high'], chances['high'])\n",
        "rule52=ctrl.Rule(glucose['low']| bp['low']| dindex['yes']|age['high']|bmi['high']|insulin['low'], chances['high'])\n",
        "rule53=ctrl.Rule(glucose['low']| bp['low']| dindex['yes']|age['high']|bmi['high']|insulin['mid'], chances['high'])\n",
        "rule54=ctrl.Rule(glucose['low']| bp['low']| dindex['yes']|age['high']|bmi['high']|insulin['high'], chances['high'])\n",
        "\n",
        "\n",
        "\n",
        "\n",
        "\n",
        "rule55=ctrl.Rule(glucose['low']| bp['high']| dindex['yes']|age['low']|bmi['low']|insulin['low'], chances['int'])\n",
        "rule56=ctrl.Rule(glucose['low']| bp['high']| dindex['yes']|age['low']|bmi['low']|insulin['mid'], chances['int'])\n",
        "rule57=ctrl.Rule(glucose['low']| bp['high']| dindex['yes']|age['low']|bmi['low']|insulin['high'], chances['int'])\n",
        "rule58=ctrl.Rule(glucose['low']| bp['high']| dindex['yes']|age['low']|bmi['mid']|insulin['low'], chances['int'])\n",
        "rule59=ctrl.Rule(glucose['low']| bp['high']| dindex['yes']|age['low']|bmi['mid']|insulin['mid'], chances['int'])\n",
        "rule60=ctrl.Rule(glucose['low']| bp['high']| dindex['yes']|age['low']|bmi['mid']|insulin['high'], chances['int'])\n",
        "rule61=ctrl.Rule(glucose['low']| bp['high']| dindex['yes']|age['low']|bmi['high']|insulin['low'], chances['int'])\n",
        "rule62=ctrl.Rule(glucose['low']| bp['high']| dindex['yes']|age['low']|bmi['high']|insulin['mid'], chances['int'])\n",
        "rule63=ctrl.Rule(glucose['low']| bp['high']| dindex['yes']|age['low']|bmi['high']|insulin['high'], chances['high'])\n",
        "rule64=ctrl.Rule(glucose['low']| bp['high']| dindex['yes']|age['mid']|bmi['low']|insulin['low'], chances['int'])\n",
        "rule65=ctrl.Rule(glucose['low']| bp['high']| dindex['yes']|age['mid']|bmi['low']|insulin['mid'], chances['int'])\n",
        "rule66=ctrl.Rule(glucose['low']| bp['high']| dindex['yes']|age['mid']|bmi['low']|insulin['high'], chances['high'])\n",
        "rule67=ctrl.Rule(glucose['low']| bp['high']| dindex['yes']|age['mid']|bmi['mid']|insulin['low'], chances['int'])\n",
        "rule68=ctrl.Rule(glucose['low']| bp['high']| dindex['yes']|age['mid']|bmi['mid']|insulin['mid'], chances['high'])\n",
        "rule69=ctrl.Rule(glucose['low']| bp['high']| dindex['yes']|age['mid']|bmi['mid']|insulin['high'], chances['int'])\n",
        "rule70=ctrl.Rule(glucose['low']| bp['high']| dindex['yes']|age['mid']|bmi['high']|insulin['low'], chances['int'])\n",
        "rule71=ctrl.Rule(glucose['low']| bp['high']| dindex['yes']|age['mid']|bmi['high']|insulin['mid'], chances['int'])\n",
        "rule72=ctrl.Rule(glucose['low']| bp['high']| dindex['yes']|age['mid']|bmi['high']|insulin['high'], chances['high'])\n",
        "rule73=ctrl.Rule(glucose['low']| bp['high']| dindex['yes']|age['high']|bmi['low']|insulin['low'], chances['int'])\n",
        "rule74=ctrl.Rule(glucose['low']| bp['high']| dindex['yes']|age['high']|bmi['low']|insulin['mid'], chances['high'])\n",
        "rule75=ctrl.Rule(glucose['low']| bp['high']| dindex['yes']|age['high']|bmi['low']|insulin['high'], chances['high'])\n",
        "rule76=ctrl.Rule(glucose['low']| bp['high']| dindex['yes']|age['high']|bmi['mid']|insulin['low'], chances['high'])\n",
        "rule77=ctrl.Rule(glucose['low']| bp['high']| dindex['yes']|age['high']|bmi['mid']|insulin['mid'], chances['high'])\n",
        "rule78=ctrl.Rule(glucose['low']| bp['high']| dindex['yes']|age['high']|bmi['mid']|insulin['high'], chances['high'])\n",
        "rule79=ctrl.Rule(glucose['low']| bp['high']| dindex['yes']|age['high']|bmi['high']|insulin['low'], chances['high'])\n",
        "rule80=ctrl.Rule(glucose['low']| bp['high']| dindex['yes']|age['high']|bmi['high']|insulin['mid'], chances['high'])\n",
        "rule81=ctrl.Rule(glucose['low']| bp['high']| dindex['yes']|age['high']|bmi['high']|insulin['high'], chances['high'])\n",
        "\n",
        "\n",
        "\n",
        "\n",
        "rule82=ctrl.Rule(glucose['inter']| bp['high']| dindex['yes']|age['low']|bmi['low']|insulin['low'], chances['int'])\n",
        "rule83=ctrl.Rule(glucose['inter']| bp['high']| dindex['yes']|age['low']|bmi['low']|insulin['mid'], chances['int'])\n",
        "rule84=ctrl.Rule(glucose['inter']| bp['high']| dindex['yes']|age['low']|bmi['low']|insulin['high'], chances['int'])\n",
        "rule85=ctrl.Rule(glucose['inter']| bp['high']| dindex['yes']|age['low']|bmi['mid']|insulin['low'], chances['int'])\n",
        "rule86=ctrl.Rule(glucose['inter']| bp['high']| dindex['yes']|age['low']|bmi['mid']|insulin['mid'], chances['int'])\n",
        "rule87=ctrl.Rule(glucose['inter']| bp['high']| dindex['yes']|age['low']|bmi['mid']|insulin['high'], chances['int'])\n",
        "rule88=ctrl.Rule(glucose['inter']| bp['high']| dindex['yes']|age['low']|bmi['high']|insulin['low'], chances['int'])\n",
        "rule89=ctrl.Rule(glucose['inter']| bp['high']| dindex['yes']|age['low']|bmi['high']|insulin['mid'], chances['int'])\n",
        "rule90=ctrl.Rule(glucose['inter']| bp['high']| dindex['yes']|age['low']|bmi['high']|insulin['high'], chances['high'])\n",
        "rule91=ctrl.Rule(glucose['inter']| bp['high']| dindex['yes']|age['mid']|bmi['low']|insulin['low'], chances['int'])\n",
        "rule92=ctrl.Rule(glucose['inter']| bp['high']| dindex['yes']|age['mid']|bmi['low']|insulin['mid'], chances['int'])\n",
        "rule93=ctrl.Rule(glucose['inter']| bp['high']| dindex['yes']|age['mid']|bmi['low']|insulin['high'], chances['high'])\n",
        "rule94=ctrl.Rule(glucose['inter']| bp['high']| dindex['yes']|age['mid']|bmi['mid']|insulin['low'], chances['int'])\n",
        "rule95=ctrl.Rule(glucose['inter']| bp['high']| dindex['yes']|age['mid']|bmi['mid']|insulin['mid'], chances['high'])\n",
        "rule96=ctrl.Rule(glucose['inter']| bp['high']| dindex['yes']|age['mid']|bmi['mid']|insulin['high'], chances['int'])\n",
        "rule97=ctrl.Rule(glucose['inter']| bp['high']| dindex['yes']|age['mid']|bmi['high']|insulin['low'], chances['int'])\n",
        "rule98=ctrl.Rule(glucose['inter']| bp['high']| dindex['yes']|age['mid']|bmi['high']|insulin['mid'], chances['int'])\n",
        "rule99=ctrl.Rule(glucose['inter']| bp['high']| dindex['yes']|age['mid']|bmi['high']|insulin['high'], chances['high'])\n",
        "rule100=ctrl.Rule(glucose['inter']| bp['high']| dindex['yes']|age['high']|bmi['low']|insulin['low'], chances['int'])\n",
        "rule101=ctrl.Rule(glucose['inter']| bp['high']| dindex['yes']|age['high']|bmi['low']|insulin['mid'], chances['high'])\n",
        "rule102=ctrl.Rule(glucose['inter']| bp['high']| dindex['yes']|age['high']|bmi['low']|insulin['high'], chances['high'])\n",
        "rule103=ctrl.Rule(glucose['inter']| bp['high']| dindex['yes']|age['high']|bmi['mid']|insulin['low'], chances['high'])\n",
        "rule104=ctrl.Rule(glucose['inter']| bp['high']| dindex['yes']|age['high']|bmi['mid']|insulin['mid'], chances['high'])\n",
        "rule105=ctrl.Rule(glucose['inter']| bp['high']| dindex['yes']|age['high']|bmi['mid']|insulin['high'], chances['high'])\n",
        "rule106=ctrl.Rule(glucose['inter']| bp['high']| dindex['yes']|age['high']|bmi['high']|insulin['low'], chances['high'])\n",
        "rule107=ctrl.Rule(glucose['inter']| bp['high']| dindex['yes']|age['high']|bmi['high']|insulin['mid'], chances['high'])\n",
        "rule108=ctrl.Rule(glucose['inter']| bp['high']| dindex['yes']|age['high']|bmi['high']|insulin['high'], chances['high'])\n",
        "\n",
        "\n",
        "\n",
        "rule109=ctrl.Rule(glucose['high']| bp['high']| dindex['yes']|age['low']|bmi['low']|insulin['low'], chances['int'])\n",
        "rule110=ctrl.Rule(glucose['high']| bp['high']| dindex['yes']|age['low']|bmi['low']|insulin['mid'], chances['int'])\n",
        "rule111=ctrl.Rule(glucose['high']| bp['high']| dindex['yes']|age['low']|bmi['low']|insulin['high'], chances['int'])\n",
        "rule112=ctrl.Rule(glucose['high']| bp['high']| dindex['yes']|age['low']|bmi['mid']|insulin['low'], chances['int'])\n",
        "rule113=ctrl.Rule(glucose['high']| bp['high']| dindex['yes']|age['low']|bmi['mid']|insulin['mid'], chances['int'])\n",
        "rule114=ctrl.Rule(glucose['high']| bp['high']| dindex['yes']|age['low']|bmi['mid']|insulin['high'], chances['int'])\n",
        "rule115=ctrl.Rule(glucose['high']| bp['high']| dindex['yes']|age['low']|bmi['high']|insulin['low'], chances['int'])\n",
        "rule116=ctrl.Rule(glucose['high']| bp['high']| dindex['yes']|age['low']|bmi['high']|insulin['mid'], chances['int'])\n",
        "rule117=ctrl.Rule(glucose['high']| bp['high']| dindex['yes']|age['low']|bmi['high']|insulin['high'], chances['high'])\n",
        "rule118=ctrl.Rule(glucose['high']| bp['high']| dindex['yes']|age['mid']|bmi['low']|insulin['low'], chances['int'])\n",
        "rule119=ctrl.Rule(glucose['high']| bp['high']| dindex['yes']|age['mid']|bmi['low']|insulin['mid'], chances['int'])\n",
        "rule120=ctrl.Rule(glucose['high']| bp['high']| dindex['yes']|age['mid']|bmi['low']|insulin['high'], chances['high'])\n",
        "rule121=ctrl.Rule(glucose['high']| bp['high']| dindex['yes']|age['mid']|bmi['mid']|insulin['low'], chances['int'])\n",
        "rule122=ctrl.Rule(glucose['high']| bp['high']| dindex['yes']|age['mid']|bmi['mid']|insulin['mid'], chances['high'])\n",
        "rule123=ctrl.Rule(glucose['high']| bp['high']| dindex['yes']|age['mid']|bmi['mid']|insulin['high'], chances['int'])\n",
        "rule124=ctrl.Rule(glucose['high']| bp['high']| dindex['yes']|age['mid']|bmi['high']|insulin['low'], chances['int'])\n",
        "rule125=ctrl.Rule(glucose['high']| bp['high']| dindex['yes']|age['mid']|bmi['high']|insulin['mid'], chances['int'])\n",
        "rule126=ctrl.Rule(glucose['high']| bp['high']| dindex['yes']|age['mid']|bmi['high']|insulin['high'], chances['high'])\n",
        "rule127=ctrl.Rule(glucose['high']| bp['high']| dindex['yes']|age['high']|bmi['low']|insulin['low'], chances['int'])\n",
        "rule128=ctrl.Rule(glucose['high']| bp['high']| dindex['yes']|age['high']|bmi['low']|insulin['mid'], chances['high'])\n",
        "rule129=ctrl.Rule(glucose['high']| bp['high']| dindex['yes']|age['high']|bmi['low']|insulin['high'], chances['high'])\n",
        "rule130=ctrl.Rule(glucose['high']| bp['high']| dindex['yes']|age['high']|bmi['mid']|insulin['low'], chances['high'])\n",
        "rule131=ctrl.Rule(glucose['high']| bp['high']| dindex['yes']|age['high']|bmi['mid']|insulin['mid'], chances['high'])\n",
        "rule132=ctrl.Rule(glucose['high']| bp['high']| dindex['yes']|age['high']|bmi['mid']|insulin['high'], chances['high'])\n",
        "rule133=ctrl.Rule(glucose['high']| bp['high']| dindex['yes']|age['high']|bmi['high']|insulin['low'], chances['high'])\n",
        "rule134=ctrl.Rule(glucose['high']| bp['high']| dindex['yes']|age['high']|bmi['high']|insulin['mid'], chances['high'])\n",
        "rule135=ctrl.Rule(glucose['high']| bp['high']| dindex['yes']|age['high']|bmi['high']|insulin['high'], chances['high'])\n"
      ],
      "execution_count": null,
      "outputs": []
    },
    {
      "cell_type": "code",
      "metadata": {
        "id": "xVQbzrlxKcvK"
      },
      "source": [
        "chances_ctrl=ctrl.ControlSystem([rule1, rule2, rule3, rule4,rule5, rule6, rule7, rule8,rule9,rule10,rule11,rule12,rule13,rule14,rule15,rule16,rule17,rule18,rule19,rule20,rule21,rule22,rule23,rule24,rule25,rule26,rule27,rule28,rule29,rule30,rule31,rule32,rule33,rule34,rule35,rule36,rule37,rule38,rule39,rule40,rule41,rule42,rule43,rule44,rule45,rule46,rule47,rule48,rule49,rule50,rule51,rule52,rule53,rule54,rule55,rule56,rule57,rule58,rule59,rule60,rule61,rule62,rule63,rule64,rule65,rule66,rule67,rule68,rule69,rule70,rule71,rule72,rule73,rule74,rule75,rule76,rule77,rule78,rule79,rule80,rule81,rule82,rule83,rule84,rule85,rule86,rule87,rule88,rule89,rule90,rule91,rule92,rule93,rule94,rule95,rule96,rule97,rule98,rule99,rule100,rule101,rule102,rule103,rule104,rule105,rule106,rule107,rule108,rule109,rule110,rule111,rule112,rule113,rule114,rule115,rule116,rule117,rule118,rule119,rule120,rule121,rule122,rule123,rule124,rule125,rule126,rule127,rule128,rule129,rule130,rule131,rule132,rule133,rule134,rule135])"
      ],
      "execution_count": null,
      "outputs": []
    },
    {
      "cell_type": "code",
      "metadata": {
        "id": "s-RdgfZ2KiVb"
      },
      "source": [
        "result=ctrl.ControlSystemSimulation(chances_ctrl)"
      ],
      "execution_count": null,
      "outputs": []
    },
    {
      "cell_type": "code",
      "metadata": {
        "id": "aIH9OW7HKnHC"
      },
      "source": [
        "result.input['glucose']=99\n",
        "result.input['bp']=84\n",
        "result.input['age']=50\n",
        "result.input['dindex']=388\n",
        "\n",
        "result.input['insulin']=0\n",
        "\n",
        "result.input['bmi']=554"
      ],
      "execution_count": null,
      "outputs": []
    },
    {
      "cell_type": "code",
      "metadata": {
        "id": "cw413QggKrl1"
      },
      "source": [
        "result.compute()"
      ],
      "execution_count": null,
      "outputs": []
    },
    {
      "cell_type": "code",
      "metadata": {
        "id": "XHqcdw7cKyqZ",
        "outputId": "5dfdb76b-3347-4163-c0ce-c48f0e128663",
        "colab": {
          "base_uri": "https://localhost:8080/",
          "height": 34
        }
      },
      "source": [
        "print(result.output['chances'])"
      ],
      "execution_count": null,
      "outputs": [
        {
          "output_type": "stream",
          "text": [
            "54.644498927367465\n"
          ],
          "name": "stdout"
        }
      ]
    },
    {
      "cell_type": "code",
      "metadata": {
        "id": "x3ES9fitK2uY",
        "outputId": "e1c53b09-6113-46b4-f2c3-ce3114de5f0d",
        "colab": {
          "base_uri": "https://localhost:8080/",
          "height": 281
        }
      },
      "source": [
        "chances.view(sim=result)"
      ],
      "execution_count": null,
      "outputs": [
        {
          "output_type": "display_data",
          "data": {
            "image/png": "[encoded data removed]",
            "text/plain": [
              "<Figure size 432x288 with 1 Axes>"
            ]
          },
          "metadata": {
            "tags": [],
            "needs_background": "light"
          }
        }
      ]
    },
    {
      "cell_type": "code",
      "metadata": {
        "id": "3pWeFTjHK4h1"
      },
      "source": [
        ""
      ],
      "execution_count": null,
      "outputs": []
    }
  ]
}